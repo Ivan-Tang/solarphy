{
 "cells": [
  {
   "cell_type": "code",
   "execution_count": 1,
   "metadata": {},
   "outputs": [
    {
     "name": "stderr",
     "output_type": "stream",
     "text": [
      "/opt/anaconda3/envs/solarphysics/lib/python3.10/site-packages/tqdm/auto.py:21: TqdmWarning: IProgress not found. Please update jupyter and ipywidgets. See https://ipywidgets.readthedocs.io/en/stable/user_install.html\n",
      "  from .autonotebook import tqdm as notebook_tqdm\n"
     ]
    }
   ],
   "source": [
    "from sunpy.net import Fido, attrs as a\n",
    "import astropy.units as u"
   ]
  },
  {
   "cell_type": "code",
   "execution_count": 2,
   "metadata": {},
   "outputs": [
    {
     "name": "stdout",
     "output_type": "stream",
     "text": [
      "sunpy.net.Fido\n",
      "\n",
      "Fido is a unified data search and retrieval tool.\n",
      "\n",
      "It provides simultaneous access to a variety of online data sources, some\n",
      "cover multiple instruments and data products like the Virtual Solar\n",
      "Observatory and some are specific to a single source.\n",
      "\n",
      "For details of using `~sunpy.net.Fido` see :ref:`sunpy-tutorial-acquiring-data-index`.\n",
      "\n",
      "\n",
      "      Client      ...\n",
      "----------------- ...\n",
      "CDAWEBClient      ...\n",
      "ADAPTClient       ...\n",
      "EVEClient         ...\n",
      "GBMClient         ...\n",
      "XRSClient         ...\n",
      "SUVIClient        ...\n",
      "GONGClient        ...\n",
      "LYRAClient        ...\n",
      "NOAAIndicesClient ...\n",
      "NOAAPredictClient ...\n",
      "SRSClient         ...\n",
      "NoRHClient        ...\n",
      "RHESSIClient      ...\n",
      "HEKClient         ...\n",
      "HECClient         ...\n",
      "JSOCClient        ...\n",
      "VSOClient         ...\n"
     ]
    }
   ],
   "source": [
    "print(Fido)"
   ]
  },
  {
   "cell_type": "markdown",
   "metadata": {},
   "source": [
    "用a.Time返回一个时间范围\n",
    "a.Instrument可以指定观测的卫星"
   ]
  },
  {
   "cell_type": "code",
   "execution_count": 5,
   "metadata": {},
   "outputs": [
    {
     "name": "stdout",
     "output_type": "stream",
     "text": [
      "sunpy.net.attrs.Instrument\n",
      "\n",
      "Specifies the Instrument name for the search.\n",
      "\n",
      "       Attribute Name       ...\n",
      "--------------------------- ...\n",
      "adapt                       ...\n",
      "aia                         ...\n",
      "bcs                         ...\n",
      "be_continuum                ...\n",
      "be_halpha                   ...\n",
      "bigbear                     ...\n",
      "caii                        ...\n",
      "cds                         ...\n",
      "celias                      ...\n",
      "cerrotololo                 ...\n",
      "chp                         ...\n",
      "cook                        ...\n",
      "costep                      ...\n",
      "cp                          ...\n",
      "dpm                         ...\n",
      "eis                         ...\n",
      "eit                         ...\n",
      "elteide                     ...\n",
      "erne                        ...\n",
      "eui                         ...\n",
      "eve                         ...\n",
      "eve                         ...\n",
      "film                        ...\n",
      "five_12_channelmagnetograph ...\n",
      "foxsi                       ...\n",
      "gbm                         ...\n",
      "goes                        ...\n",
      "golf                        ...\n",
      "gong                        ...\n",
      "ha2                         ...\n",
      "hi_c                        ...\n",
      "hi_c21                      ...\n",
      "hmi                         ...\n",
      "hxeclipse                   ...\n",
      "hxt                         ...\n",
      "imax                        ...\n",
      "impact                      ...\n",
      "iris                        ...\n",
      "isoon                       ...\n",
      "iss                         ...\n",
      "ivm                         ...\n",
      "k_cor                       ...\n",
      "kpdc                        ...\n",
      "lasco                       ...\n",
      "learmonth                   ...\n",
      "longwave_lobe_06            ...\n",
      "longwave_lobe_07            ...\n",
      "longwave_slit_06            ...\n",
      "longwave_slit_07            ...\n",
      "lyra                        ...\n",
      "lyra                        ...\n",
      "maunaloa                    ...\n",
      "mdi                         ...\n",
      "mees                        ...\n",
      "mergedgong                  ...\n",
      "meudonspectroheliograph     ...\n",
      "mk4                         ...\n",
      "noaa_indices                ...\n",
      "noaa_predict                ...\n",
      "norh                        ...\n",
      "phoenix                     ...\n",
      "phoka                       ...\n",
      "plastic                     ...\n",
      "ptmc                        ...\n",
      "rhessi                      ...\n",
      "rhessi                      ...\n",
      "secchi                      ...\n",
      "shortwave_lobe_06           ...\n",
      "shortwave_lobe_07           ...\n",
      "shortwave_slit_06           ...\n",
      "shortwave_slit_07           ...\n",
      "six_0_ftshg                 ...\n",
      "sj                          ...\n",
      "solarftsspectrometer        ...\n",
      "solohi                      ...\n",
      "soon                        ...\n",
      "sot                         ...\n",
      "sp1                         ...\n",
      "sp2                         ...\n",
      "spectroheliograph           ...\n",
      "spectromagnetograph         ...\n",
      "spice                       ...\n",
      "srs_table                   ...\n",
      "sufi                        ...\n",
      "sumer                       ...\n",
      "sutri                       ...\n",
      "suvi                        ...\n",
      "suvi                        ...\n",
      "swan                        ...\n",
      "swap                        ...\n",
      "swaves                      ...\n",
      "sxt                         ...\n",
      "t1_halpha                   ...\n",
      "tm_1001                     ...\n",
      "tm_1010                     ...\n",
      "trace                       ...\n",
      "udaipur                     ...\n",
      "uvcs                        ...\n",
      "vault_1999                  ...\n",
      "vault_2002                  ...\n",
      "vault_2014                  ...\n",
      "virgo                       ...\n",
      "vsm                         ...\n",
      "wbs                         ...\n",
      "wispr                       ...\n",
      "x123                        ...\n",
      "xrs                         ...\n",
      "xrt                         ...\n"
     ]
    }
   ],
   "source": [
    "a.Time('2012/3/4', '2012/3/6')\n",
    "print(a.Instrument)"
   ]
  },
  {
   "cell_type": "markdown",
   "metadata": {},
   "source": [
    "例子：查找在2012年3月4日到2012年3月6日之间，lyra观测到的level2数据"
   ]
  },
  {
   "cell_type": "code",
   "execution_count": 4,
   "metadata": {},
   "outputs": [
    {
     "name": "stdout",
     "output_type": "stream",
     "text": [
      "Results from 1 Provider:\n",
      "\n",
      "3 Results from the LYRAClient:\n",
      "Source: http://proba2.oma.be/lyra/data/bsd\n",
      "\n",
      "       Start Time               End Time        Instrument ... Provider Level\n",
      "----------------------- ----------------------- ---------- ... -------- -----\n",
      "2012-03-04 00:00:00.000 2012-03-04 23:59:59.999       LYRA ...      ESA     2\n",
      "2012-03-05 00:00:00.000 2012-03-05 23:59:59.999       LYRA ...      ESA     2\n",
      "2012-03-06 00:00:00.000 2012-03-06 23:59:59.999       LYRA ...      ESA     2\n",
      "\n",
      "\n"
     ]
    }
   ],
   "source": [
    "result1 = Fido.search(a.Time('2012/3/4', '2012/3/6'), a.Instrument.lyra, a.Level.two) \n",
    "print(result1)"
   ]
  },
  {
   "cell_type": "markdown",
   "metadata": {},
   "source": [
    "例子：查找在2012年3月4日到2012年3月6日之间，lyra观测到的所有数据"
   ]
  },
  {
   "cell_type": "code",
   "execution_count": 6,
   "metadata": {},
   "outputs": [
    {
     "name": "stdout",
     "output_type": "stream",
     "text": [
      "Results from 2 Providers:\n",
      "\n",
      "6 Results from the LYRAClient:\n",
      "Source: http://proba2.oma.be/lyra/data/bsd\n",
      "\n",
      "       Start Time               End Time        Instrument ... Provider Level\n",
      "----------------------- ----------------------- ---------- ... -------- -----\n",
      "2012-03-04 00:00:00.000 2012-03-04 23:59:59.999       LYRA ...      ESA     2\n",
      "2012-03-04 00:00:00.000 2012-03-04 23:59:59.999       LYRA ...      ESA     3\n",
      "2012-03-05 00:00:00.000 2012-03-05 23:59:59.999       LYRA ...      ESA     2\n",
      "2012-03-05 00:00:00.000 2012-03-05 23:59:59.999       LYRA ...      ESA     3\n",
      "2012-03-06 00:00:00.000 2012-03-06 23:59:59.999       LYRA ...      ESA     2\n",
      "2012-03-06 00:00:00.000 2012-03-06 23:59:59.999       LYRA ...      ESA     3\n",
      "\n",
      "12 Results from the VSOClient:\n",
      "Source: http://vso.stanford.edu/cgi-bin/search\n",
      "Total estimated size: 185.812 Gbyte\n",
      "\n",
      "       Start Time               End Time        ... Extent Type    Size   \n",
      "                                                ...               Mibyte  \n",
      "----------------------- ----------------------- ... ----------- ----------\n",
      "2012-03-04 02:56:29.000 2012-03-04 03:21:29.000 ...         N/A    30.9375\n",
      "2012-03-04 02:56:29.000 2012-03-04 03:21:29.000 ...         N/A   419.0625\n",
      "2012-03-04 02:56:29.000 2012-03-04 03:21:29.000 ...         N/A    714.375\n",
      "2012-03-05 00:00:00.000 2012-03-05 23:59:59.000 ...         N/A     61.875\n",
      "2012-03-05 00:00:00.000 2012-03-05 23:59:59.000 ...         N/A 75675.9375\n",
      "2012-03-05 00:00:00.000 2012-03-05 23:59:59.000 ...         N/A   68951.25\n",
      "2012-03-05 00:00:00.000 2012-03-05 23:59:59.000 ...         N/A       45.0\n",
      "2012-03-05 00:00:00.000 2012-03-05 23:59:59.000 ...         N/A    208.125\n",
      "2012-03-05 00:00:00.000 2012-03-05 23:59:59.000 ...         N/A      5.625\n",
      "2012-03-05 02:55:10.000 2012-03-05 23:59:59.000 ...         N/A 30456.5625\n",
      "2012-03-05 02:55:10.000 2012-03-05 23:59:59.000 ...         N/A       45.0\n",
      "2012-03-05 02:55:10.000 2012-03-05 23:59:59.000 ...         N/A    590.625\n",
      "\n",
      "\n"
     ]
    }
   ],
   "source": [
    "result2 = Fido.search(a.Time('2012/3/4', '2012/3/6'), a.Instrument.lyra)\n",
    "print(result2)"
   ]
  },
  {
   "cell_type": "markdown",
   "metadata": {},
   "source": [
    "例子：查找AIA171-304波长范围在2012年3月4日到2012年3月6日，以10分钟为间隔的观测数据"
   ]
  },
  {
   "cell_type": "code",
   "execution_count": 8,
   "metadata": {},
   "outputs": [
    {
     "data": {
      "text/html": [
       "Results from 1 Provider:</br></br>289 Results from the VSOClient:</br><div><i>VSOQueryResponseTable length=289</i>\n",
       "<table id=\"table5388724560\" class=\"table-striped table-bordered table-condensed\">\n",
       "<thead><tr><th>Start Time</th><th>End Time</th><th>Source</th><th>Instrument</th><th>Wavelength</th><th>Provider</th><th>Physobs</th><th>Wavetype</th><th>Extent Width</th><th>Extent Length</th><th>Extent Type</th><th>Size</th></tr></thead>\n",
       "<thead><tr><th></th><th></th><th></th><th></th><th>Angstrom</th><th></th><th></th><th></th><th></th><th></th><th></th><th>Mibyte</th></tr></thead>\n",
       "<thead><tr><th>Time</th><th>Time</th><th>str3</th><th>str3</th><th>float64[2]</th><th>str4</th><th>str9</th><th>str6</th><th>str4</th><th>str4</th><th>str8</th><th>float64</th></tr></thead>\n",
       "<tr><td>2012-03-04 00:00:00.000</td><td>2012-03-04 00:00:01.000</td><td>SDO</td><td>AIA</td><td>171.0 .. 171.0</td><td>JSOC</td><td>intensity</td><td>NARROW</td><td>4096</td><td>4096</td><td>FULLDISK</td><td>64.64844</td></tr>\n",
       "<tr><td>2012-03-04 00:10:00.000</td><td>2012-03-04 00:10:01.000</td><td>SDO</td><td>AIA</td><td>171.0 .. 171.0</td><td>JSOC</td><td>intensity</td><td>NARROW</td><td>4096</td><td>4096</td><td>FULLDISK</td><td>64.64844</td></tr>\n",
       "<tr><td>2012-03-04 00:20:00.000</td><td>2012-03-04 00:20:01.000</td><td>SDO</td><td>AIA</td><td>171.0 .. 171.0</td><td>JSOC</td><td>intensity</td><td>NARROW</td><td>4096</td><td>4096</td><td>FULLDISK</td><td>64.64844</td></tr>\n",
       "<tr><td>2012-03-04 00:30:00.000</td><td>2012-03-04 00:30:01.000</td><td>SDO</td><td>AIA</td><td>171.0 .. 171.0</td><td>JSOC</td><td>intensity</td><td>NARROW</td><td>4096</td><td>4096</td><td>FULLDISK</td><td>64.64844</td></tr>\n",
       "<tr><td>2012-03-04 00:40:00.000</td><td>2012-03-04 00:40:01.000</td><td>SDO</td><td>AIA</td><td>171.0 .. 171.0</td><td>JSOC</td><td>intensity</td><td>NARROW</td><td>4096</td><td>4096</td><td>FULLDISK</td><td>64.64844</td></tr>\n",
       "<tr><td>2012-03-04 00:50:00.000</td><td>2012-03-04 00:50:01.000</td><td>SDO</td><td>AIA</td><td>171.0 .. 171.0</td><td>JSOC</td><td>intensity</td><td>NARROW</td><td>4096</td><td>4096</td><td>FULLDISK</td><td>64.64844</td></tr>\n",
       "<tr><td>2012-03-04 01:00:00.000</td><td>2012-03-04 01:00:01.000</td><td>SDO</td><td>AIA</td><td>171.0 .. 171.0</td><td>JSOC</td><td>intensity</td><td>NARROW</td><td>4096</td><td>4096</td><td>FULLDISK</td><td>64.64844</td></tr>\n",
       "<tr><td>2012-03-04 01:10:00.000</td><td>2012-03-04 01:10:01.000</td><td>SDO</td><td>AIA</td><td>171.0 .. 171.0</td><td>JSOC</td><td>intensity</td><td>NARROW</td><td>4096</td><td>4096</td><td>FULLDISK</td><td>64.64844</td></tr>\n",
       "<tr><td>2012-03-04 01:20:00.000</td><td>2012-03-04 01:20:01.000</td><td>SDO</td><td>AIA</td><td>171.0 .. 171.0</td><td>JSOC</td><td>intensity</td><td>NARROW</td><td>4096</td><td>4096</td><td>FULLDISK</td><td>64.64844</td></tr>\n",
       "<tr><td>...</td><td>...</td><td>...</td><td>...</td><td>...</td><td>...</td><td>...</td><td>...</td><td>...</td><td>...</td><td>...</td><td>...</td></tr>\n",
       "<tr><td>2012-03-05 22:40:00.000</td><td>2012-03-05 22:40:01.000</td><td>SDO</td><td>AIA</td><td>171.0 .. 171.0</td><td>JSOC</td><td>intensity</td><td>NARROW</td><td>4096</td><td>4096</td><td>FULLDISK</td><td>64.64844</td></tr>\n",
       "<tr><td>2012-03-05 22:50:00.000</td><td>2012-03-05 22:50:01.000</td><td>SDO</td><td>AIA</td><td>171.0 .. 171.0</td><td>JSOC</td><td>intensity</td><td>NARROW</td><td>4096</td><td>4096</td><td>FULLDISK</td><td>64.64844</td></tr>\n",
       "<tr><td>2012-03-05 23:00:00.000</td><td>2012-03-05 23:00:01.000</td><td>SDO</td><td>AIA</td><td>171.0 .. 171.0</td><td>JSOC</td><td>intensity</td><td>NARROW</td><td>4096</td><td>4096</td><td>FULLDISK</td><td>64.64844</td></tr>\n",
       "<tr><td>2012-03-05 23:10:00.000</td><td>2012-03-05 23:10:01.000</td><td>SDO</td><td>AIA</td><td>171.0 .. 171.0</td><td>JSOC</td><td>intensity</td><td>NARROW</td><td>4096</td><td>4096</td><td>FULLDISK</td><td>64.64844</td></tr>\n",
       "<tr><td>2012-03-05 23:20:00.000</td><td>2012-03-05 23:20:01.000</td><td>SDO</td><td>AIA</td><td>171.0 .. 171.0</td><td>JSOC</td><td>intensity</td><td>NARROW</td><td>4096</td><td>4096</td><td>FULLDISK</td><td>64.64844</td></tr>\n",
       "<tr><td>2012-03-05 23:30:00.000</td><td>2012-03-05 23:30:01.000</td><td>SDO</td><td>AIA</td><td>171.0 .. 171.0</td><td>JSOC</td><td>intensity</td><td>NARROW</td><td>4096</td><td>4096</td><td>FULLDISK</td><td>64.64844</td></tr>\n",
       "<tr><td>2012-03-05 23:40:00.000</td><td>2012-03-05 23:40:01.000</td><td>SDO</td><td>AIA</td><td>171.0 .. 171.0</td><td>JSOC</td><td>intensity</td><td>NARROW</td><td>4096</td><td>4096</td><td>FULLDISK</td><td>64.64844</td></tr>\n",
       "<tr><td>2012-03-05 23:50:00.000</td><td>2012-03-05 23:50:01.000</td><td>SDO</td><td>AIA</td><td>171.0 .. 171.0</td><td>JSOC</td><td>intensity</td><td>NARROW</td><td>4096</td><td>4096</td><td>FULLDISK</td><td>64.64844</td></tr>\n",
       "<tr><td>2012-03-06 00:00:00.000</td><td>2012-03-06 00:00:01.000</td><td>SDO</td><td>AIA</td><td>171.0 .. 171.0</td><td>JSOC</td><td>intensity</td><td>NARROW</td><td>4096</td><td>4096</td><td>FULLDISK</td><td>64.64844</td></tr>\n",
       "</table></div></br>"
      ],
      "text/plain": [
       "<sunpy.net.fido_factory.UnifiedResponse object at 0x1375e37f0>\n",
       "Results from 1 Provider:\n",
       "\n",
       "289 Results from the VSOClient:\n",
       "Source: http://vso.stanford.edu/cgi-bin/search\n",
       "Total estimated size: 19.591 Gbyte\n",
       "\n",
       "       Start Time               End Time        Source ... Extent Type   Size  \n",
       "                                                       ...              Mibyte \n",
       "----------------------- ----------------------- ------ ... ----------- --------\n",
       "2012-03-04 00:00:00.000 2012-03-04 00:00:01.000    SDO ...    FULLDISK 64.64844\n",
       "2012-03-04 00:10:00.000 2012-03-04 00:10:01.000    SDO ...    FULLDISK 64.64844\n",
       "2012-03-04 00:20:00.000 2012-03-04 00:20:01.000    SDO ...    FULLDISK 64.64844\n",
       "2012-03-04 00:30:00.000 2012-03-04 00:30:01.000    SDO ...    FULLDISK 64.64844\n",
       "2012-03-04 00:40:00.000 2012-03-04 00:40:01.000    SDO ...    FULLDISK 64.64844\n",
       "2012-03-04 00:50:00.000 2012-03-04 00:50:01.000    SDO ...    FULLDISK 64.64844\n",
       "2012-03-04 01:00:00.000 2012-03-04 01:00:01.000    SDO ...    FULLDISK 64.64844\n",
       "2012-03-04 01:10:00.000 2012-03-04 01:10:01.000    SDO ...    FULLDISK 64.64844\n",
       "2012-03-04 01:20:00.000 2012-03-04 01:20:01.000    SDO ...    FULLDISK 64.64844\n",
       "                    ...                     ...    ... ...         ...      ...\n",
       "2012-03-05 22:30:00.000 2012-03-05 22:30:01.000    SDO ...    FULLDISK 64.64844\n",
       "2012-03-05 22:40:00.000 2012-03-05 22:40:01.000    SDO ...    FULLDISK 64.64844\n",
       "2012-03-05 22:50:00.000 2012-03-05 22:50:01.000    SDO ...    FULLDISK 64.64844\n",
       "2012-03-05 23:00:00.000 2012-03-05 23:00:01.000    SDO ...    FULLDISK 64.64844\n",
       "2012-03-05 23:10:00.000 2012-03-05 23:10:01.000    SDO ...    FULLDISK 64.64844\n",
       "2012-03-05 23:20:00.000 2012-03-05 23:20:01.000    SDO ...    FULLDISK 64.64844\n",
       "2012-03-05 23:30:00.000 2012-03-05 23:30:01.000    SDO ...    FULLDISK 64.64844\n",
       "2012-03-05 23:40:00.000 2012-03-05 23:40:01.000    SDO ...    FULLDISK 64.64844\n",
       "2012-03-05 23:50:00.000 2012-03-05 23:50:01.000    SDO ...    FULLDISK 64.64844\n",
       "2012-03-06 00:00:00.000 2012-03-06 00:00:01.000    SDO ...    FULLDISK 64.64844\n",
       "Length = 289 rows\n"
      ]
     },
     "execution_count": 8,
     "metadata": {},
     "output_type": "execute_result"
    }
   ],
   "source": [
    "Fido.search(a.Time('2012/3/4', '2012/3/6'), a.Instrument.aia, a.Wavelength(171*u.angstrom, 304*u.angstrom), a.Sample(10*u.minute))  # doctest: +REMOTE_DATA"
   ]
  },
  {
   "cell_type": "code",
   "execution_count": 11,
   "metadata": {},
   "outputs": [
    {
     "data": {
      "text/html": [
       "Results from 1 Provider:</br></br>289 Results from the VSOClient:</br><div><i>VSOQueryResponseTable length=289</i>\n",
       "<table id=\"table5982737536\" class=\"table-striped table-bordered table-condensed\">\n",
       "<thead><tr><th>Start Time</th><th>End Time</th><th>Source</th><th>Instrument</th><th>Wavelength</th><th>Provider</th><th>Physobs</th><th>Wavetype</th><th>Extent Width</th><th>Extent Length</th><th>Extent Type</th><th>Size</th><th>Extra Flags</th></tr></thead>\n",
       "<thead><tr><th></th><th></th><th></th><th></th><th>Angstrom</th><th></th><th></th><th></th><th></th><th></th><th></th><th>Mibyte</th><th></th></tr></thead>\n",
       "<thead><tr><th>Time</th><th>Time</th><th>str3</th><th>str3</th><th>float64[2]</th><th>str4</th><th>str9</th><th>str6</th><th>str4</th><th>str4</th><th>str8</th><th>float64</th><th>str1</th></tr></thead>\n",
       "<tr><td>2012-03-04 00:00:08.000</td><td>2012-03-04 00:09:21.000</td><td>SDO</td><td>AIA</td><td>304.0 .. 304.0</td><td>JSOC</td><td>intensity</td><td>NARROW</td><td>4096</td><td>4096</td><td>FULLDISK</td><td>3038.47656</td><td>S</td></tr>\n",
       "<tr><td>2012-03-04 00:09:32.000</td><td>2012-03-04 00:19:21.000</td><td>SDO</td><td>AIA</td><td>304.0 .. 304.0</td><td>JSOC</td><td>intensity</td><td>NARROW</td><td>4096</td><td>4096</td><td>FULLDISK</td><td>3232.42188</td><td>S</td></tr>\n",
       "<tr><td>2012-03-04 00:19:32.000</td><td>2012-03-04 00:29:21.000</td><td>SDO</td><td>AIA</td><td>304.0 .. 304.0</td><td>JSOC</td><td>intensity</td><td>NARROW</td><td>4096</td><td>4096</td><td>FULLDISK</td><td>3232.42188</td><td>S</td></tr>\n",
       "<tr><td>2012-03-04 00:29:32.000</td><td>2012-03-04 00:39:21.000</td><td>SDO</td><td>AIA</td><td>304.0 .. 304.0</td><td>JSOC</td><td>intensity</td><td>NARROW</td><td>4096</td><td>4096</td><td>FULLDISK</td><td>3232.42188</td><td>S</td></tr>\n",
       "<tr><td>2012-03-04 00:39:32.000</td><td>2012-03-04 00:49:21.000</td><td>SDO</td><td>AIA</td><td>304.0 .. 304.0</td><td>JSOC</td><td>intensity</td><td>NARROW</td><td>4096</td><td>4096</td><td>FULLDISK</td><td>3232.42188</td><td>S</td></tr>\n",
       "<tr><td>2012-03-04 00:49:32.000</td><td>2012-03-04 00:59:21.000</td><td>SDO</td><td>AIA</td><td>304.0 .. 304.0</td><td>JSOC</td><td>intensity</td><td>NARROW</td><td>4096</td><td>4096</td><td>FULLDISK</td><td>3232.42188</td><td>S</td></tr>\n",
       "<tr><td>2012-03-04 00:59:32.000</td><td>2012-03-04 01:09:21.000</td><td>SDO</td><td>AIA</td><td>304.0 .. 304.0</td><td>JSOC</td><td>intensity</td><td>NARROW</td><td>4096</td><td>4096</td><td>FULLDISK</td><td>3232.42188</td><td>S</td></tr>\n",
       "<tr><td>2012-03-04 01:09:32.000</td><td>2012-03-04 01:19:21.000</td><td>SDO</td><td>AIA</td><td>304.0 .. 304.0</td><td>JSOC</td><td>intensity</td><td>NARROW</td><td>4096</td><td>4096</td><td>FULLDISK</td><td>3232.42188</td><td>S</td></tr>\n",
       "<tr><td>2012-03-04 01:19:32.000</td><td>2012-03-04 01:29:21.000</td><td>SDO</td><td>AIA</td><td>304.0 .. 304.0</td><td>JSOC</td><td>intensity</td><td>NARROW</td><td>4096</td><td>4096</td><td>FULLDISK</td><td>3232.42188</td><td>S</td></tr>\n",
       "<tr><td>...</td><td>...</td><td>...</td><td>...</td><td>...</td><td>...</td><td>...</td><td>...</td><td>...</td><td>...</td><td>...</td><td>...</td><td>...</td></tr>\n",
       "<tr><td>2012-03-05 22:39:32.000</td><td>2012-03-05 22:49:21.000</td><td>SDO</td><td>AIA</td><td>304.0 .. 304.0</td><td>JSOC</td><td>intensity</td><td>NARROW</td><td>4096</td><td>4096</td><td>FULLDISK</td><td>3232.42188</td><td>S</td></tr>\n",
       "<tr><td>2012-03-05 22:49:32.000</td><td>2012-03-05 22:59:21.000</td><td>SDO</td><td>AIA</td><td>304.0 .. 304.0</td><td>JSOC</td><td>intensity</td><td>NARROW</td><td>4096</td><td>4096</td><td>FULLDISK</td><td>3232.42188</td><td>S</td></tr>\n",
       "<tr><td>2012-03-05 22:59:32.000</td><td>2012-03-05 23:09:21.000</td><td>SDO</td><td>AIA</td><td>304.0 .. 304.0</td><td>JSOC</td><td>intensity</td><td>NARROW</td><td>4096</td><td>4096</td><td>FULLDISK</td><td>3232.42188</td><td>S</td></tr>\n",
       "<tr><td>2012-03-05 23:09:32.000</td><td>2012-03-05 23:19:21.000</td><td>SDO</td><td>AIA</td><td>304.0 .. 304.0</td><td>JSOC</td><td>intensity</td><td>NARROW</td><td>4096</td><td>4096</td><td>FULLDISK</td><td>3232.42188</td><td>S</td></tr>\n",
       "<tr><td>2012-03-05 23:19:32.000</td><td>2012-03-05 23:29:21.000</td><td>SDO</td><td>AIA</td><td>304.0 .. 304.0</td><td>JSOC</td><td>intensity</td><td>NARROW</td><td>4096</td><td>4096</td><td>FULLDISK</td><td>3232.42188</td><td>S</td></tr>\n",
       "<tr><td>2012-03-05 23:29:32.000</td><td>2012-03-05 23:39:21.000</td><td>SDO</td><td>AIA</td><td>304.0 .. 304.0</td><td>JSOC</td><td>intensity</td><td>NARROW</td><td>4096</td><td>4096</td><td>FULLDISK</td><td>3232.42188</td><td>S</td></tr>\n",
       "<tr><td>2012-03-05 23:39:32.000</td><td>2012-03-05 23:49:21.000</td><td>SDO</td><td>AIA</td><td>304.0 .. 304.0</td><td>JSOC</td><td>intensity</td><td>NARROW</td><td>4096</td><td>4096</td><td>FULLDISK</td><td>3232.42188</td><td>S</td></tr>\n",
       "<tr><td>2012-03-05 23:49:32.000</td><td>2012-03-05 23:59:21.000</td><td>SDO</td><td>AIA</td><td>304.0 .. 304.0</td><td>JSOC</td><td>intensity</td><td>NARROW</td><td>4096</td><td>4096</td><td>FULLDISK</td><td>3232.42188</td><td>S</td></tr>\n",
       "<tr><td>2012-03-05 23:59:32.000</td><td>2012-03-05 23:59:57.000</td><td>SDO</td><td>AIA</td><td>304.0 .. 304.0</td><td>JSOC</td><td>intensity</td><td>NARROW</td><td>4096</td><td>4096</td><td>FULLDISK</td><td>193.94531</td><td>S</td></tr>\n",
       "</table></div></br>"
      ],
      "text/plain": [
       "<sunpy.net.fido_factory.UnifiedResponse object at 0x163ca6a10>\n",
       "Results from 1 Provider:\n",
       "\n",
       "289 Results from the VSOClient:\n",
       "Source: http://vso.stanford.edu/cgi-bin/search\n",
       "Total estimated size: 976.159 Gbyte\n",
       "\n",
       "       Start Time               End Time        ...    Size    Extra Flags\n",
       "                                                ...   Mibyte              \n",
       "----------------------- ----------------------- ... ---------- -----------\n",
       "2012-03-04 00:00:08.000 2012-03-04 00:09:21.000 ... 3038.47656           S\n",
       "2012-03-04 00:09:32.000 2012-03-04 00:19:21.000 ... 3232.42188           S\n",
       "2012-03-04 00:19:32.000 2012-03-04 00:29:21.000 ... 3232.42188           S\n",
       "2012-03-04 00:29:32.000 2012-03-04 00:39:21.000 ... 3232.42188           S\n",
       "2012-03-04 00:39:32.000 2012-03-04 00:49:21.000 ... 3232.42188           S\n",
       "2012-03-04 00:49:32.000 2012-03-04 00:59:21.000 ... 3232.42188           S\n",
       "2012-03-04 00:59:32.000 2012-03-04 01:09:21.000 ... 3232.42188           S\n",
       "2012-03-04 01:09:32.000 2012-03-04 01:19:21.000 ... 3232.42188           S\n",
       "2012-03-04 01:19:32.000 2012-03-04 01:29:21.000 ... 3232.42188           S\n",
       "                    ...                     ... ...        ...         ...\n",
       "2012-03-05 22:29:32.000 2012-03-05 22:39:24.000 ... 3232.42188           S\n",
       "2012-03-05 22:39:32.000 2012-03-05 22:49:21.000 ... 3232.42188           S\n",
       "2012-03-05 22:49:32.000 2012-03-05 22:59:21.000 ... 3232.42188           S\n",
       "2012-03-05 22:59:32.000 2012-03-05 23:09:21.000 ... 3232.42188           S\n",
       "2012-03-05 23:09:32.000 2012-03-05 23:19:21.000 ... 3232.42188           S\n",
       "2012-03-05 23:19:32.000 2012-03-05 23:29:21.000 ... 3232.42188           S\n",
       "2012-03-05 23:29:32.000 2012-03-05 23:39:21.000 ... 3232.42188           S\n",
       "2012-03-05 23:39:32.000 2012-03-05 23:49:21.000 ... 3232.42188           S\n",
       "2012-03-05 23:49:32.000 2012-03-05 23:59:21.000 ... 3232.42188           S\n",
       "2012-03-05 23:59:32.000 2012-03-05 23:59:57.000 ...  193.94531           S\n",
       "Length = 289 rows\n"
      ]
     },
     "execution_count": 11,
     "metadata": {},
     "output_type": "execute_result"
    }
   ],
   "source": [
    "Fido.search(a.Time('2012/3/4', '2012/3/6'), a.Instrument.aia,\n",
    "            a.Wavelength(304*u.angstrom)) "
   ]
  },
  {
   "cell_type": "markdown",
   "metadata": {},
   "source": [
    "JSOC数据下载"
   ]
  },
  {
   "cell_type": "code",
   "execution_count": 15,
   "metadata": {},
   "outputs": [],
   "source": [
    "from sunpy.net import Fido, attrs as a"
   ]
  },
  {
   "cell_type": "markdown",
   "metadata": {},
   "source": [
    "打印所有可以获取的jsoc数据"
   ]
  },
  {
   "cell_type": "code",
   "execution_count": 14,
   "metadata": {},
   "outputs": [
    {
     "name": "stdout",
     "output_type": "stream",
     "text": [
      "sunpy.net.jsoc.attrs.Series\n",
      "\n",
      "The JSOC Series to Download.\n",
      "\n",
      "          Attribute Name           ...\n",
      "---------------------------------- ...\n",
      "aia_flatfield                      ...\n",
      "aia_lev1                           ...\n",
      "aia_lev1_euv_12s                   ...\n",
      "aia_lev1_uv_24s                    ...\n",
      "aia_lev1_vis_1h                    ...\n",
      "aia_master_pointing3h              ...\n",
      "aia_response                       ...\n",
      "aia_temperature_summary_300s       ...\n",
      "hmi_b_135s                         ...\n",
      "hmi_b_5760s                        ...\n",
      "hmi_b_720s                         ...\n",
      "hmi_b_720s_dcon                    ...\n",
      "hmi_b_720s_dcons                   ...\n",
      "hmi_b_720s_e15w1332_cea            ...\n",
      "hmi_b_720s_e15w1332_cutout         ...\n",
      "hmi_b_90s                          ...\n",
      "hmi_b_synoptic                     ...\n",
      "hmi_b_synoptic_small               ...\n",
      "hmi_bharp_720s                     ...\n",
      "hmi_bharp_720s_nrt                 ...\n",
      "hmi_bmap_lowres_latlon_720s        ...\n",
      "hmi_c_avg120                       ...\n",
      "hmi_coefficients                   ...\n",
      "hmi_cont_dcon                      ...\n",
      "hmi_eigenfunctions                 ...\n",
      "hmi_flatfield                      ...\n",
      "hmi_fsi_phase_lon_lat              ...\n",
      "hmi_fsi_phase_lon_lat_5d           ...\n",
      "hmi_fsvbinned_nrt                  ...\n",
      "hmi_gcvbinned_nrt                  ...\n",
      "hmi_hskernels                      ...\n",
      "hmi_ic_45s                         ...\n",
      "hmi_ic_45s_dcon                    ...\n",
      "hmi_ic_720s                        ...\n",
      "hmi_ic_720s_dcon                   ...\n",
      "hmi_ic_720s_dcons                  ...\n",
      "hmi_ic_nolimbdark_720s             ...\n",
      "hmi_ic_nolimbdark_720s_nrt         ...\n",
      "hmi_ld_45s                         ...\n",
      "hmi_ld_45s_dcon                    ...\n",
      "hmi_ld_720s                        ...\n",
      "hmi_ld_720s_dcon                   ...\n",
      "hmi_ld_720s_dcons                  ...\n",
      "hmi_leakage                        ...\n",
      "hmi_lev1_cal                       ...\n",
      "hmi_lev1_dcon                      ...\n",
      "hmi_location_45s                   ...\n",
      "hmi_location_720s                  ...\n",
      "hmi_lookup_chebycoef_bnoise        ...\n",
      "hmi_lookup_corrected_expanded      ...\n",
      "hmi_lookup_expanded                ...\n",
      "hmi_lw_45s                         ...\n",
      "hmi_lw_45s_dcon                    ...\n",
      "hmi_lw_720s                        ...\n",
      "hmi_lw_720s_dcon                   ...\n",
      "hmi_lw_720s_dcons                  ...\n",
      "hmi_m_45s                          ...\n",
      "hmi_m_45s_dcon                     ...\n",
      "hmi_m_720s                         ...\n",
      "hmi_m_720s_dcon                    ...\n",
      "hmi_m_720s_dcons                   ...\n",
      "hmi_m_720s_mod                     ...\n",
      "hmi_m_720s_nrt                     ...\n",
      "hmi_marmask_720s                   ...\n",
      "hmi_marmask_720s_nrt               ...\n",
      "hmi_me_135s                        ...\n",
      "hmi_me_5760s                       ...\n",
      "hmi_me_720s_e15w1332               ...\n",
      "hmi_me_720s_e15w1332_harp          ...\n",
      "hmi_me_720s_fd10                   ...\n",
      "hmi_me_720s_fd10_dcon              ...\n",
      "hmi_me_720s_fd10_harp              ...\n",
      "hmi_me_720s_fd10_harp_nrt          ...\n",
      "hmi_me_720s_fd10_nrt               ...\n",
      "hmi_me_90s                         ...\n",
      "hmi_meanpf_720s                    ...\n",
      "hmi_meharp_720s                    ...\n",
      "hmi_meharp_720s_nrt                ...\n",
      "hmi_mharp_720s                     ...\n",
      "hmi_mharp_720s_nrt                 ...\n",
      "hmi_mhdcorona                      ...\n",
      "hmi_mhdcorona_daily                ...\n",
      "hmi_mhdcorona_daily_nrt            ...\n",
      "hmi_mldailysynframe_720s           ...\n",
      "hmi_mldailysynframe_720s_nrt       ...\n",
      "hmi_mldailysynframe_small_720s     ...\n",
      "hmi_mldailysynframe_small_720s_nrt ...\n",
      "hmi_mlsynop_small_720s             ...\n",
      "hmi_mrdailysynframe_720s           ...\n",
      "hmi_mrdailysynframe_720s_nrt       ...\n",
      "hmi_mrdailysynframe_polfil_720s    ...\n",
      "hmi_mrdailysynframe_small_720s     ...\n",
      "hmi_mrdailysynframe_small_720s_nrt ...\n",
      "hmi_mrmap_latlon_720s              ...\n",
      "hmi_mrmap_latlon_720s_nrt          ...\n",
      "hmi_mrmap_lowres_latlon_720s       ...\n",
      "hmi_mrsynop_small_720s             ...\n",
      "hmi_offpoint_flatfield             ...\n",
      "hmi_pfss_synframe                  ...\n",
      "hmi_pfss_synop                     ...\n",
      "hmi_phasemaps_extended             ...\n",
      "hmi_polar_db                       ...\n",
      "hmi_q_synframe                     ...\n",
      "hmi_q_synop                        ...\n",
      "hmi_rdmai_fd05                     ...\n",
      "hmi_rdmai_fd15                     ...\n",
      "hmi_rdmai_fd30                     ...\n",
      "hmi_rdubinmeanserd_fd05            ...\n",
      "hmi_rdubinserd_fd05                ...\n",
      "hmi_rdvavgpspec_fd15               ...\n",
      "hmi_rdvavgpspec_fd30               ...\n",
      "hmi_rdvfitsc_avg15                 ...\n",
      "hmi_rdvfitsc_avg30                 ...\n",
      "hmi_rdvfitsc_fd05                  ...\n",
      "hmi_rdvfitsc_fd15                  ...\n",
      "hmi_rdvfitsc_fd30                  ...\n",
      "hmi_rdvfitsf_fd05                  ...\n",
      "hmi_rdvfitsf_fd15                  ...\n",
      "hmi_rdvfitsf_fd30                  ...\n",
      "hmi_rdvflows_fd15_frame            ...\n",
      "hmi_rdvflows_fd30_frame            ...\n",
      "hmi_rdvpspec_fd05                  ...\n",
      "hmi_rdvpspec_fd15                  ...\n",
      "hmi_rdvpspec_fd30                  ...\n",
      "hmi_rdvtrack_fd05                  ...\n",
      "hmi_rdvtrack_fd15                  ...\n",
      "hmi_rdvtrack_fd30                  ...\n",
      "hmi_s_135s                         ...\n",
      "hmi_s_5760s                        ...\n",
      "hmi_s_720s                         ...\n",
      "hmi_s_720s_dcon                    ...\n",
      "hmi_s_720s_dcons                   ...\n",
      "hmi_s_90s                          ...\n",
      "hmi_sharp_720s                     ...\n",
      "hmi_sharp_720s_dcons               ...\n",
      "hmi_sharp_720s_nrt                 ...\n",
      "hmi_sharp_cea_720s                 ...\n",
      "hmi_sharp_cea_720s_dcons           ...\n",
      "hmi_sharp_cea_720s_nrt             ...\n",
      "hmi_synoptic_ml_720s               ...\n",
      "hmi_synoptic_ml_720s_nrt           ...\n",
      "hmi_synoptic_ml_small_720s_nrt     ...\n",
      "hmi_synoptic_mr_720s               ...\n",
      "hmi_synoptic_mr_720s_nrt           ...\n",
      "hmi_synoptic_mr_polfil_720s        ...\n",
      "hmi_synoptic_mr_small_720s_nrt     ...\n",
      "hmi_td_fsi_12h                     ...\n",
      "hmi_tdkernels                      ...\n",
      "hmi_tdpixlist                      ...\n",
      "hmi_tdvinvrt_synophc               ...\n",
      "hmi_tdvtimes_synophc               ...\n",
      "hmi_tdvtrack_synophc               ...\n",
      "hmi_temperature_summary_300s       ...\n",
      "hmi_v_45s                          ...\n",
      "hmi_v_45s_dcon                     ...\n",
      "hmi_v_45s_nrt                      ...\n",
      "hmi_v_720s                         ...\n",
      "hmi_v_720s_dcon                    ...\n",
      "hmi_v_720s_dcons                   ...\n",
      "hmi_v_avg120                       ...\n",
      "hmi_v_sht_2drls                    ...\n",
      "hmi_v_sht_2drls_asym               ...\n",
      "hmi_v_sht_72d                      ...\n",
      "hmi_v_sht_gaps_72d                 ...\n",
      "hmi_v_sht_gf_72d                   ...\n",
      "hmi_v_sht_gf_gaps_72d              ...\n",
      "hmi_v_sht_gf_gaps_retile           ...\n",
      "hmi_v_sht_gf_retile                ...\n",
      "hmi_v_sht_modes                    ...\n",
      "hmi_v_sht_modes_archive            ...\n",
      "hmi_v_sht_modes_asym               ...\n",
      "hmi_v_sht_modes_asym_archive       ...\n",
      "hmi_v_sht_pow                      ...\n",
      "hmi_v_sht_secs_72d                 ...\n",
      "hmi_vw_v_45s                       ...\n",
      "hmi_vw_v_45s_nrt                   ...\n",
      "hmi_vw_v_sht_2drls                 ...\n",
      "hmi_vw_v_sht_72d                   ...\n",
      "hmi_vw_v_sht_gaps_72d              ...\n",
      "hmi_vw_v_sht_gf_72d                ...\n",
      "hmi_vw_v_sht_gf_gaps_72d           ...\n",
      "hmi_vw_v_sht_modes                 ...\n",
      "hmi_vw_v_sht_modes_archive         ...\n",
      "hmi_vw_v_sht_pow                   ...\n",
      "mdi_caltables_doppler              ...\n",
      "mdi_caltables_doppler_orig         ...\n",
      "mdi_caltables_intensity            ...\n",
      "mdi_detune                         ...\n",
      "mdi_eigenfunctions                 ...\n",
      "mdi_fd_i0                          ...\n",
      "mdi_fd_i0_extract                  ...\n",
      "mdi_fd_ic                          ...\n",
      "mdi_fd_ic_06h                      ...\n",
      "mdi_fd_ic_interp                   ...\n",
      "mdi_fd_ld                          ...\n",
      "mdi_fd_m_96m_lev182                ...\n",
      "mdi_fd_m_extract                   ...\n",
      "mdi_fd_m_lev182                    ...\n",
      "mdi_fd_marmask                     ...\n",
      "mdi_fd_spotmask                    ...\n",
      "mdi_fd_v                           ...\n",
      "mdi_fd_v_bin2x2                    ...\n",
      "mdi_fd_v_extract                   ...\n",
      "mdi_fd_v_sht                       ...\n",
      "mdi_fd_v_sht_2drls                 ...\n",
      "mdi_fd_v_sht_2drls_asym            ...\n",
      "mdi_fd_v_sht_gaps                  ...\n",
      "mdi_fd_v_sht_gf                    ...\n",
      "mdi_fd_v_sht_gf_gaps               ...\n",
      "mdi_fd_v_sht_modes                 ...\n",
      "mdi_fd_v_sht_modes_archive         ...\n",
      "mdi_fd_v_sht_modes_asym            ...\n",
      "mdi_fd_v_sht_modes_asym_archive    ...\n",
      "mdi_fd_v_sht_pow                   ...\n",
      "mdi_fd_v_sht_secs                  ...\n",
      "mdi_fdv_avg120                     ...\n",
      "mdi_focus                          ...\n",
      "mdi_hr_i0                          ...\n",
      "mdi_hr_ic                          ...\n",
      "mdi_hr_ld                          ...\n",
      "mdi_hr_ld_bin2x2                   ...\n",
      "mdi_hr_m                           ...\n",
      "mdi_hr_m_bin2x2                    ...\n",
      "mdi_hr_v                           ...\n",
      "mdi_hr_v_12s                       ...\n",
      "mdi_hr_v_bin2x2                    ...\n",
      "mdi_ice                            ...\n",
      "mdi_leakage                        ...\n",
      "mdi_limb_figure                    ...\n",
      "mdi_lostarp_96m                    ...\n",
      "mdi_meanpf_96m                     ...\n",
      "mdi_mtarp                          ...\n",
      "mdi_pfss_synop                     ...\n",
      "mdi_polar_db                       ...\n",
      "mdi_q_synop                        ...\n",
      "mdi_rdvfitsc_dp                    ...\n",
      "mdi_rdvfitsf_dp                    ...\n",
      "mdi_rdvflows_dp                    ...\n",
      "mdi_rdvpspec_dp                    ...\n",
      "mdi_rdvtrack_dp                    ...\n",
      "mdi_roll_table                     ...\n",
      "mdi_rwbin_ic                       ...\n",
      "mdi_rwbin_ld                       ...\n",
      "mdi_scale_corrections              ...\n",
      "mdi_sinrho_table                   ...\n",
      "mdi_smarp_96m                      ...\n",
      "mdi_smarp_cea_96m                  ...\n",
      "mdi_synoptic_ml_96m                ...\n",
      "mdi_synoptic_ml_small_96m          ...\n",
      "mdi_synoptic_mr_96m                ...\n",
      "mdi_synoptic_mr_polfil_96m         ...\n",
      "mdi_synoptic_mr_small_96m          ...\n",
      "mdi_vw_v                           ...\n",
      "mdi_vw_v_sht_2drls                 ...\n",
      "mdi_vw_v_sht_2drls_asym            ...\n",
      "mdi_vw_v_sht_72d                   ...\n",
      "mdi_vw_v_sht_gaps_72d              ...\n",
      "mdi_vw_v_sht_gf_72d                ...\n",
      "mdi_vw_v_sht_gf_gaps_72d           ...\n",
      "mdi_vw_v_sht_gf_gaps_retile        ...\n",
      "mdi_vw_v_sht_gf_retile             ...\n",
      "mdi_vw_v_sht_modes                 ...\n",
      "mdi_vw_v_sht_modes_archive         ...\n",
      "mdi_vw_v_sht_modes_asym            ...\n",
      "mdi_vw_v_sht_modes_asym_archive    ...\n",
      "mdi_vw_v_sht_pow                   ...\n",
      "mdi_vw_v_sht_secs_72d              ...\n"
     ]
    }
   ],
   "source": [
    "print(a.jsoc.Series)"
   ]
  },
  {
   "cell_type": "markdown",
   "metadata": {},
   "source": [
    "pkeys是主键的意思，这里的主键是时间戳。意味着我们可以根据时间戳来查询数据。"
   ]
  },
  {
   "cell_type": "code",
   "execution_count": 27,
   "metadata": {},
   "outputs": [
    {
     "name": "stdout",
     "output_type": "stream",
     "text": [
      "['T_REC']\n"
     ]
    }
   ],
   "source": [
    "import drms\n",
    "client = drms.Client()\n",
    "print(client.pkeys('hmi.b_720s'))"
   ]
  },
  {
   "cell_type": "markdown",
   "metadata": {},
   "source": [
    "请求在2014-01-01T00:00:00'到'2014-01-01T01:00:00之间hmi.B_720s的数据"
   ]
  },
  {
   "cell_type": "code",
   "execution_count": 28,
   "metadata": {},
   "outputs": [
    {
     "name": "stdout",
     "output_type": "stream",
     "text": [
      "Results from 1 Provider:\n",
      "\n",
      "6 Results from the JSOCClient:\n",
      "Source: http://jsoc.stanford.edu\n",
      "\n",
      "         T_REC          TELESCOP  INSTRUME WAVELNTH CAR_ROT\n",
      "----------------------- -------- --------- -------- -------\n",
      "2014.01.01_00:00:00_TAI  SDO/HMI HMI_SIDE1   6173.0    2145\n",
      "2014.01.01_00:12:00_TAI  SDO/HMI HMI_SIDE1   6173.0    2145\n",
      "2014.01.01_00:24:00_TAI  SDO/HMI HMI_SIDE1   6173.0    2145\n",
      "2014.01.01_00:36:00_TAI  SDO/HMI HMI_SIDE1   6173.0    2145\n",
      "2014.01.01_00:48:00_TAI  SDO/HMI HMI_SIDE1   6173.0    2145\n",
      "2014.01.01_01:00:00_TAI  SDO/HMI HMI_SIDE1   6173.0    2145\n",
      "\n",
      "\n"
     ]
    }
   ],
   "source": [
    "res = Fido.search(a.Time('2014-01-01T00:00:00', '2014-01-01T01:00:00'),\n",
    "                  a.jsoc.Series('hmi.b_720s'))\n",
    "print(res)"
   ]
  },
  {
   "cell_type": "markdown",
   "metadata": {},
   "source": [
    "a.Time默认使用的是国际标准时UTC，如果要使用其他时间，导入astropy.time模块并在tai中指定具体的时间类型\n",
    "\n",
    "其他时间类型：\n",
    "UTC：日常使用，包含闰秒。\n",
    "TAI：连续时间，不含闰秒。\n",
    "TT：用于太阳系动力学。\n",
    "TDB：用于深空探测。\n",
    "TCG/TCB：用于广义相对论。\n",
    "UT1：基于地球自转。"
   ]
  },
  {
   "cell_type": "code",
   "execution_count": 25,
   "metadata": {},
   "outputs": [
    {
     "data": {
      "text/plain": [
       "<sunpy.net.attrs.Time(2014-01-01 00:00:00.000, 2014-01-01 01:00:00.000)>"
      ]
     },
     "execution_count": 25,
     "metadata": {},
     "output_type": "execute_result"
    }
   ],
   "source": [
    "import astropy.time \n",
    "a.Time(astropy.time.Time('2014-01-01T00:00:00', scale='tai'), astropy.time.Time('2014-01-01T01:00:00', scale='tai'))"
   ]
  },
  {
   "cell_type": "markdown",
   "metadata": {},
   "source": [
    "如何传入多个primekey呢？"
   ]
  },
  {
   "cell_type": "code",
   "execution_count": 34,
   "metadata": {},
   "outputs": [
    {
     "name": "stdout",
     "output_type": "stream",
     "text": [
      "Results from 1 Provider:\n",
      "\n",
      "301 Results from the JSOCClient:\n",
      "Source: http://jsoc.stanford.edu\n",
      "\n",
      "       T_REC         TELESCOP INSTRUME WAVELNTH CAR_ROT\n",
      "-------------------- -------- -------- -------- -------\n",
      "2014-01-01T00:00:01Z  SDO/AIA    AIA_4      304    2145\n",
      "2014-01-01T00:00:13Z  SDO/AIA    AIA_4      304    2145\n",
      "2014-01-01T00:00:25Z  SDO/AIA    AIA_4      304    2145\n",
      "2014-01-01T00:00:37Z  SDO/AIA    AIA_4      304    2145\n",
      "2014-01-01T00:00:49Z  SDO/AIA    AIA_4      304    2145\n",
      "2014-01-01T00:01:01Z  SDO/AIA    AIA_4      304    2145\n",
      "2014-01-01T00:01:13Z  SDO/AIA    AIA_4      304    2145\n",
      "2014-01-01T00:01:25Z  SDO/AIA    AIA_4      304    2145\n",
      "2014-01-01T00:01:37Z  SDO/AIA    AIA_4      304    2145\n",
      "2014-01-01T00:01:49Z  SDO/AIA    AIA_4      304    2145\n",
      "                 ...      ...      ...      ...     ...\n",
      "2014-01-01T00:58:13Z  SDO/AIA    AIA_4      304    2145\n",
      "2014-01-01T00:58:25Z  SDO/AIA    AIA_4      304    2145\n",
      "2014-01-01T00:58:37Z  SDO/AIA    AIA_4      304    2145\n",
      "2014-01-01T00:58:49Z  SDO/AIA    AIA_4      304    2145\n",
      "2014-01-01T00:59:01Z  SDO/AIA    AIA_4      304    2145\n",
      "2014-01-01T00:59:13Z  SDO/AIA    AIA_4      304    2145\n",
      "2014-01-01T00:59:25Z  SDO/AIA    AIA_4      304    2145\n",
      "2014-01-01T00:59:37Z  SDO/AIA    AIA_4      304    2145\n",
      "2014-01-01T00:59:49Z  SDO/AIA    AIA_4      304    2145\n",
      "2014-01-01T01:00:01Z  SDO/AIA    AIA_4      304    2145\n",
      "Length = 301 rows\n",
      "\n",
      "\n"
     ]
    }
   ],
   "source": [
    "import astropy.units as u\n",
    "res = Fido.search(a.Time('2014-01-01T00:00:00', '2014-01-01T01:00:00'),\n",
    "                              a.jsoc.Series('aia.lev1_euv_12s'),\n",
    "                              a.Wavelength(304*u.AA))\n",
    "print(res)"
   ]
  },
  {
   "cell_type": "markdown",
   "metadata": {},
   "source": [
    "获取了数据以后，用res.show()可以展示数据，在res.show()中传入primekey可以展示特定primekey，直接res.show()则展示所有键"
   ]
  },
  {
   "cell_type": "code",
   "execution_count": 37,
   "metadata": {},
   "outputs": [
    {
     "data": {
      "text/html": [
       "Results from 1 Provider:</br></br>81 Results from the JSOCClient:</br><div><i>JSOCResponse length=81</i>\n",
       "<table id=\"table5969343152\" class=\"table-striped table-bordered table-condensed\">\n",
       "<thead><tr><th>TELESCOP</th><th>INSTRUME</th><th>T_OBS</th></tr></thead>\n",
       "<thead><tr><th>str7</th><th>str10</th><th>str23</th></tr></thead>\n",
       "<tr><td>SDO/HMI</td><td>HMI_FRONT2</td><td>2014.01.01_00:00:37_TAI</td></tr>\n",
       "<tr><td>SDO/HMI</td><td>HMI_FRONT2</td><td>2014.01.01_00:01:22_TAI</td></tr>\n",
       "<tr><td>SDO/HMI</td><td>HMI_FRONT2</td><td>2014.01.01_00:02:07_TAI</td></tr>\n",
       "<tr><td>SDO/HMI</td><td>HMI_FRONT2</td><td>2014.01.01_00:02:52_TAI</td></tr>\n",
       "<tr><td>SDO/HMI</td><td>HMI_FRONT2</td><td>2014.01.01_00:03:37_TAI</td></tr>\n",
       "<tr><td>SDO/HMI</td><td>HMI_FRONT2</td><td>2014.01.01_00:04:22_TAI</td></tr>\n",
       "<tr><td>SDO/HMI</td><td>HMI_FRONT2</td><td>2014.01.01_00:05:07_TAI</td></tr>\n",
       "<tr><td>SDO/HMI</td><td>HMI_FRONT2</td><td>2014.01.01_00:05:52_TAI</td></tr>\n",
       "<tr><td>SDO/HMI</td><td>HMI_FRONT2</td><td>2014.01.01_00:06:37_TAI</td></tr>\n",
       "<tr><td>...</td><td>...</td><td>...</td></tr>\n",
       "<tr><td>SDO/HMI</td><td>HMI_FRONT2</td><td>2014.01.01_00:53:52_TAI</td></tr>\n",
       "<tr><td>SDO/HMI</td><td>HMI_FRONT2</td><td>2014.01.01_00:54:37_TAI</td></tr>\n",
       "<tr><td>SDO/HMI</td><td>HMI_FRONT2</td><td>2014.01.01_00:55:22_TAI</td></tr>\n",
       "<tr><td>SDO/HMI</td><td>HMI_FRONT2</td><td>2014.01.01_00:56:07_TAI</td></tr>\n",
       "<tr><td>SDO/HMI</td><td>HMI_FRONT2</td><td>2014.01.01_00:56:52_TAI</td></tr>\n",
       "<tr><td>SDO/HMI</td><td>HMI_FRONT2</td><td>2014.01.01_00:57:37_TAI</td></tr>\n",
       "<tr><td>SDO/HMI</td><td>HMI_FRONT2</td><td>2014.01.01_00:58:22_TAI</td></tr>\n",
       "<tr><td>SDO/HMI</td><td>HMI_FRONT2</td><td>2014.01.01_00:59:07_TAI</td></tr>\n",
       "<tr><td>SDO/HMI</td><td>HMI_FRONT2</td><td>2014.01.01_00:59:52_TAI</td></tr>\n",
       "<tr><td>SDO/HMI</td><td>HMI_FRONT2</td><td>2014.01.01_01:00:37_TAI</td></tr>\n",
       "</table></div></br>"
      ],
      "text/plain": [
       "<sunpy.net.fido_factory.UnifiedResponse object at 0x141381990>\n",
       "Results from 1 Provider:\n",
       "\n",
       "81 Results from the JSOCClient:\n",
       "Source: http://jsoc.stanford.edu\n",
       "\n",
       "TELESCOP  INSTRUME           T_OBS         \n",
       "-------- ---------- -----------------------\n",
       " SDO/HMI HMI_FRONT2 2014.01.01_00:00:37_TAI\n",
       " SDO/HMI HMI_FRONT2 2014.01.01_00:01:22_TAI\n",
       " SDO/HMI HMI_FRONT2 2014.01.01_00:02:07_TAI\n",
       " SDO/HMI HMI_FRONT2 2014.01.01_00:02:52_TAI\n",
       " SDO/HMI HMI_FRONT2 2014.01.01_00:03:37_TAI\n",
       " SDO/HMI HMI_FRONT2 2014.01.01_00:04:22_TAI\n",
       " SDO/HMI HMI_FRONT2 2014.01.01_00:05:07_TAI\n",
       " SDO/HMI HMI_FRONT2 2014.01.01_00:05:52_TAI\n",
       " SDO/HMI HMI_FRONT2 2014.01.01_00:06:37_TAI\n",
       " SDO/HMI HMI_FRONT2 2014.01.01_00:07:22_TAI\n",
       "     ...        ...                     ...\n",
       " SDO/HMI HMI_FRONT2 2014.01.01_00:53:52_TAI\n",
       " SDO/HMI HMI_FRONT2 2014.01.01_00:54:37_TAI\n",
       " SDO/HMI HMI_FRONT2 2014.01.01_00:55:22_TAI\n",
       " SDO/HMI HMI_FRONT2 2014.01.01_00:56:07_TAI\n",
       " SDO/HMI HMI_FRONT2 2014.01.01_00:56:52_TAI\n",
       " SDO/HMI HMI_FRONT2 2014.01.01_00:57:37_TAI\n",
       " SDO/HMI HMI_FRONT2 2014.01.01_00:58:22_TAI\n",
       " SDO/HMI HMI_FRONT2 2014.01.01_00:59:07_TAI\n",
       " SDO/HMI HMI_FRONT2 2014.01.01_00:59:52_TAI\n",
       " SDO/HMI HMI_FRONT2 2014.01.01_01:00:37_TAI\n",
       "Length = 81 rows\n"
      ]
     },
     "execution_count": 37,
     "metadata": {},
     "output_type": "execute_result"
    }
   ],
   "source": [
    "res = Fido.search(a.Time('2014-01-01T00:00:00', '2014-01-01T01:00:00'),\n",
    "                  a.jsoc.Series('hmi.v_45s'))\n",
    "res.show('TELESCOP', 'INSTRUME', 'T_OBS')\n"
   ]
  },
  {
   "cell_type": "markdown",
   "metadata": {},
   "source": [
    "segment可以用于区分查找到的多个文件：通过以下代码来查询某文件类型对应的segment"
   ]
  },
  {
   "cell_type": "code",
   "execution_count": 38,
   "metadata": {},
   "outputs": [
    {
     "name": "stdout",
     "output_type": "stream",
     "text": [
      "['magnetogram' 'bitmap' 'Dopplergram' 'continuum' 'inclination' 'azimuth'\n",
      " 'field' 'vlos_mag' 'dop_width' 'eta_0' 'damping' 'src_continuum'\n",
      " 'src_grad' 'alpha_mag' 'chisq' 'conv_flag' 'info_map' 'confid_map'\n",
      " 'inclination_err' 'azimuth_err' 'field_err' 'vlos_err' 'alpha_err'\n",
      " 'field_inclination_err' 'field_az_err' 'inclin_azimuth_err'\n",
      " 'field_alpha_err' 'inclination_alpha_err' 'azimuth_alpha_err' 'disambig'\n",
      " 'conf_disambig']\n"
     ]
    }
   ],
   "source": [
    "client = drms.Client()\n",
    "si = client.info('hmi.sharp_720s')\n",
    "print(si.segments.index.values)\n"
   ]
  },
  {
   "cell_type": "markdown",
   "metadata": {},
   "source": [
    "例如，查找hmi.sharp_720s中的磁矢量图(magnetogram)，在Fido.search()中加入a.jsoc.Segment参数a.jsoc.Segment('magnetogram')即可。"
   ]
  },
  {
   "cell_type": "code",
   "execution_count": null,
   "metadata": {},
   "outputs": [
    {
     "data": {
      "text/html": [
       "Results from 1 Provider:</br></br>61 Results from the JSOCClient:</br><div><i>JSOCResponse length=61</i>\n",
       "<table id=\"table5983557696\" class=\"table-striped table-bordered table-condensed\">\n",
       "<thead><tr><th>T_REC</th><th>TELESCOP</th><th>INSTRUME</th><th>WAVELNTH</th><th>CAR_ROT</th></tr></thead>\n",
       "<thead><tr><th>str23</th><th>str7</th><th>str9</th><th>float64</th><th>int64</th></tr></thead>\n",
       "<tr><td>2014.01.01_00:00:00_TAI</td><td>SDO/HMI</td><td>HMI_SIDE1</td><td>6173.0</td><td>2145</td></tr>\n",
       "<tr><td>2014.01.01_00:12:00_TAI</td><td>SDO/HMI</td><td>HMI_SIDE1</td><td>6173.0</td><td>2145</td></tr>\n",
       "<tr><td>2014.01.01_00:24:00_TAI</td><td>SDO/HMI</td><td>HMI_SIDE1</td><td>6173.0</td><td>2145</td></tr>\n",
       "<tr><td>2014.01.01_00:36:00_TAI</td><td>SDO/HMI</td><td>HMI_SIDE1</td><td>6173.0</td><td>2145</td></tr>\n",
       "<tr><td>2014.01.01_00:48:00_TAI</td><td>SDO/HMI</td><td>HMI_SIDE1</td><td>6173.0</td><td>2145</td></tr>\n",
       "<tr><td>2014.01.01_01:00:00_TAI</td><td>SDO/HMI</td><td>HMI_SIDE1</td><td>6173.0</td><td>2145</td></tr>\n",
       "<tr><td>2014.01.01_00:00:00_TAI</td><td>SDO/HMI</td><td>HMI_SIDE1</td><td>6173.0</td><td>2145</td></tr>\n",
       "<tr><td>2014.01.01_00:12:00_TAI</td><td>SDO/HMI</td><td>HMI_SIDE1</td><td>6173.0</td><td>2145</td></tr>\n",
       "<tr><td>2014.01.01_00:24:00_TAI</td><td>SDO/HMI</td><td>HMI_SIDE1</td><td>6173.0</td><td>2145</td></tr>\n",
       "<tr><td>...</td><td>...</td><td>...</td><td>...</td><td>...</td></tr>\n",
       "<tr><td>2014.01.01_00:24:00_TAI</td><td>SDO/HMI</td><td>HMI_SIDE1</td><td>6173.0</td><td>2145</td></tr>\n",
       "<tr><td>2014.01.01_00:36:00_TAI</td><td>SDO/HMI</td><td>HMI_SIDE1</td><td>6173.0</td><td>2145</td></tr>\n",
       "<tr><td>2014.01.01_00:48:00_TAI</td><td>SDO/HMI</td><td>HMI_SIDE1</td><td>6173.0</td><td>2145</td></tr>\n",
       "<tr><td>2014.01.01_01:00:00_TAI</td><td>SDO/HMI</td><td>HMI_SIDE1</td><td>6173.0</td><td>2145</td></tr>\n",
       "<tr><td>2014.01.01_00:00:00_TAI</td><td>SDO/HMI</td><td>HMI_SIDE1</td><td>6173.0</td><td>2145</td></tr>\n",
       "<tr><td>2014.01.01_00:12:00_TAI</td><td>SDO/HMI</td><td>HMI_SIDE1</td><td>6173.0</td><td>2145</td></tr>\n",
       "<tr><td>2014.01.01_00:24:00_TAI</td><td>SDO/HMI</td><td>HMI_SIDE1</td><td>6173.0</td><td>2145</td></tr>\n",
       "<tr><td>2014.01.01_00:36:00_TAI</td><td>SDO/HMI</td><td>HMI_SIDE1</td><td>6173.0</td><td>2145</td></tr>\n",
       "<tr><td>2014.01.01_00:48:00_TAI</td><td>SDO/HMI</td><td>HMI_SIDE1</td><td>6173.0</td><td>2145</td></tr>\n",
       "<tr><td>2014.01.01_01:00:00_TAI</td><td>SDO/HMI</td><td>HMI_SIDE1</td><td>6173.0</td><td>2145</td></tr>\n",
       "</table></div></br>"
      ],
      "text/plain": [
       "<sunpy.net.fido_factory.UnifiedResponse object at 0x164a5e5c0>\n",
       "Results from 1 Provider:\n",
       "\n",
       "61 Results from the JSOCClient:\n",
       "Source: http://jsoc.stanford.edu\n",
       "\n",
       "         T_REC          TELESCOP  INSTRUME WAVELNTH CAR_ROT\n",
       "----------------------- -------- --------- -------- -------\n",
       "2014.01.01_00:00:00_TAI  SDO/HMI HMI_SIDE1   6173.0    2145\n",
       "2014.01.01_00:12:00_TAI  SDO/HMI HMI_SIDE1   6173.0    2145\n",
       "2014.01.01_00:24:00_TAI  SDO/HMI HMI_SIDE1   6173.0    2145\n",
       "2014.01.01_00:36:00_TAI  SDO/HMI HMI_SIDE1   6173.0    2145\n",
       "2014.01.01_00:48:00_TAI  SDO/HMI HMI_SIDE1   6173.0    2145\n",
       "2014.01.01_01:00:00_TAI  SDO/HMI HMI_SIDE1   6173.0    2145\n",
       "2014.01.01_00:00:00_TAI  SDO/HMI HMI_SIDE1   6173.0    2145\n",
       "2014.01.01_00:12:00_TAI  SDO/HMI HMI_SIDE1   6173.0    2145\n",
       "2014.01.01_00:24:00_TAI  SDO/HMI HMI_SIDE1   6173.0    2145\n",
       "2014.01.01_00:36:00_TAI  SDO/HMI HMI_SIDE1   6173.0    2145\n",
       "                    ...      ...       ...      ...     ...\n",
       "2014.01.01_00:24:00_TAI  SDO/HMI HMI_SIDE1   6173.0    2145\n",
       "2014.01.01_00:36:00_TAI  SDO/HMI HMI_SIDE1   6173.0    2145\n",
       "2014.01.01_00:48:00_TAI  SDO/HMI HMI_SIDE1   6173.0    2145\n",
       "2014.01.01_01:00:00_TAI  SDO/HMI HMI_SIDE1   6173.0    2145\n",
       "2014.01.01_00:00:00_TAI  SDO/HMI HMI_SIDE1   6173.0    2145\n",
       "2014.01.01_00:12:00_TAI  SDO/HMI HMI_SIDE1   6173.0    2145\n",
       "2014.01.01_00:24:00_TAI  SDO/HMI HMI_SIDE1   6173.0    2145\n",
       "2014.01.01_00:36:00_TAI  SDO/HMI HMI_SIDE1   6173.0    2145\n",
       "2014.01.01_00:48:00_TAI  SDO/HMI HMI_SIDE1   6173.0    2145\n",
       "2014.01.01_01:00:00_TAI  SDO/HMI HMI_SIDE1   6173.0    2145\n",
       "Length = 61 rows\n"
      ]
     },
     "execution_count": 43,
     "metadata": {},
     "output_type": "execute_result"
    }
   ],
   "source": [
    "# 查询magnetogram数据\n",
    "res = Fido.search(a.Time('2014-01-01T00:00:00', '2014-01-01T01:00:00'),\n",
    "                  a.jsoc.Series('hmi.sharp_720s'),\n",
    "                  a.jsoc.Segment('magnetogram'))\n",
    "res"
   ]
  },
  {
   "cell_type": "markdown",
   "metadata": {},
   "source": [
    "keyword:和segment一样，也可以用来在某文件类型中查找具体的数据。通过以下命令来查看可用的keyword"
   ]
  },
  {
   "cell_type": "code",
   "execution_count": 46,
   "metadata": {},
   "outputs": [
    {
     "name": "stdout",
     "output_type": "stream",
     "text": [
      "['cparms_sg000', 'magnetogram_bzero', 'magnetogram_bscale', 'cparms_sg001', 'bitmap_bzero', 'bitmap_bscale', 'cparms_sg002', 'Dopplergram_bzero', 'Dopplergram_bscale', 'cparms_sg003', 'continuum_bzero', 'continuum_bscale', 'cparms_sg004', 'inclination_bzero', 'inclination_bscale', 'cparms_sg005', 'azimuth_bzero', 'azimuth_bscale', 'cparms_sg006', 'field_bzero', 'field_bscale', 'cparms_sg007', 'vlos_mag_bzero', 'vlos_mag_bscale', 'cparms_sg008', 'dop_width_bzero', 'dop_width_bscale', 'cparms_sg009', 'eta_0_bzero', 'eta_0_bscale', 'cparms_sg010', 'damping_bzero', 'damping_bscale', 'cparms_sg011', 'src_continuum_bzero', 'src_continuum_bscale', 'cparms_sg012', 'src_grad_bzero', 'src_grad_bscale', 'cparms_sg013', 'alpha_mag_bzero', 'alpha_mag_bscale', 'cparms_sg014', 'chisq_bzero', 'chisq_bscale', 'cparms_sg015', 'conv_flag_bzero', 'conv_flag_bscale', 'cparms_sg016', 'info_map_bzero', 'info_map_bscale', 'cparms_sg017', 'confid_map_bzero', 'confid_map_bscale', 'cparms_sg018', 'inclination_err_bzero', 'inclination_err_bscale', 'cparms_sg019', 'azimuth_err_bzero', 'azimuth_err_bscale', 'cparms_sg020', 'field_err_bzero', 'field_err_bscale', 'cparms_sg021', 'vlos_err_bzero', 'vlos_err_bscale', 'cparms_sg022', 'alpha_err_bzero', 'alpha_err_bscale', 'cparms_sg023', 'field_inclination_err_bzero', 'field_inclination_err_bscale', 'cparms_sg024', 'field_az_err_bzero', 'field_az_err_bscale', 'cparms_sg025', 'inclin_azimuth_err_bzero', 'inclin_azimuth_err_bscale', 'cparms_sg026', 'field_alpha_err_bzero', 'field_alpha_err_bscale', 'cparms_sg027', 'inclination_alpha_err_bzero', 'inclination_alpha_err_bscale', 'cparms_sg028', 'azimuth_alpha_err_bzero', 'azimuth_alpha_err_bscale', 'cparms_sg029', 'disambig_bzero', 'disambig_bscale', 'cparms_sg030', 'conf_disambig_bzero', 'conf_disambig_bscale', 'DATE', 'DATE_S', 'DATE_B', 'DATE__OBS', 'DATE-OBS', 'T_OBS', 'T_REC', 'T_REC_epoch', 'T_REC_step', 'T_REC_unit', 'CADENCE', 'USFLUX', 'MEANGAM', 'MEANGBT', 'MEANGBZ', 'MEANGBH', 'MEANJZD', 'TOTUSJZ', 'MEANALP', 'MEANJZH', 'TOTUSJH', 'ABSNJZH', 'SAVNCPP', 'MEANPOT', 'TOTPOT', 'MEANSHR', 'SHRGT45', 'R_VALUE', 'GWILL', 'CTYPE1', 'CTYPE2', 'CRPIX1', 'CRPIX2', 'CRVAL1', 'CRVAL2', 'CDELT1', 'CDELT2', 'CUNIT1', 'CUNIT2', 'IMCRPIX1', 'IMCRPIX2', 'IMCRVAL1', 'IMCRVAL2', 'CROTA2', 'CRDER1', 'CRDER2', 'CSYSER1', 'CSYSER2', 'WCSNAME', 'DSUN_OBS', 'DSUN_REF', 'RSUN_REF', 'CRLN_OBS', 'CRLT_OBS', 'CAR_ROT', 'OBS_VR', 'OBS_VW', 'OBS_VN', 'RSUN_OBS', 'TELESCOP', 'INSTRUME', 'WAVELNTH', 'CAMERA', 'QUALITY', 'QUAL_S', 'QUALLEV1', 'BUNIT', 'ORIGIN', 'CONTENT', 'HISTORY', 'COMMENT', 'BLD_VERS', 'CALVER64', 'HFLID', 'HCFTID', 'QLOOK', 'HARPNUM', 'OFFDISK', 'QUIET', 'ACTIVE', 'NCLASS', 'ON_PATCH', 'MASK', 'ARM_QUAL', 'ARM_NCLN', 'H_MERGE', 'H_FAINT', 'ARMCODEV', 'ARMDOCU', 'HRPCODEV', 'HRPDOCU', 'ARM_MODL', 'ARM_EDGE', 'ARM_BETA', 'TKP_KWID', 'TKP_KLAT', 'TKP_TAU', 'TKP_TAU2', 'TKP_ACTV', 'TKP_FNUM', 'TKP_FTIM', 'TKP_MAPR', 'TKP_RUNN', 'TKP_RUNT', 'LATDTMIN', 'LONDTMIN', 'LATDTMAX', 'LONDTMAX', 'OMEGA_DT', 'NPIX', 'SIZE', 'AREA', 'NACR', 'SIZE_ACR', 'AREA_ACR', 'MTOT', 'MNET', 'MPOS_TOT', 'MNEG_TOT', 'MMEAN', 'MSTDEV', 'MSKEW', 'MKURT', 'LAT_MIN', 'LON_MIN', 'LAT_MAX', 'LON_MAX', 'LAT_FWT', 'LON_FWT', 'LAT_FWTPOS', 'LON_FWTPOS', 'LAT_FWTNEG', 'LON_FWTNEG', 'T_FRST', 'T_FRST1', 'T_LAST1', 'T_LAST', 'N_PATCH', 'N_PATCH1', 'N_PATCHM', 'NOAA_AR', 'NOAA_NUM', 'NOAA_ARS', 'TINTNUM', 'SINTNUM', 'DISTCOEF', 'ROTCOEF', 'POLCALM', 'SOURCE', 'CODEVER0', 'CODEVER1', 'CODEVER2', 'CODEVER3', 'CODEVER4', 'CODEVER5', 'CODEVER6', 'CODEVER7', 'INVCODEV', 'INVDOCU', 'INVITERA', 'INVLMBDA', 'INVLMBDF', 'INVTUNEN', 'INVSVDTL', 'INVCHIST', 'INVPOLTH', 'INVPJUMP', 'INVLMBDM', 'INVLMBD0', 'INVLMBDB', 'INVDLTLA', 'INVLMBDS', 'INVLMBMS', 'INVLYOTW', 'INVWNARW', 'INVWSPAC', 'INVINTTH', 'INVNFCTI', 'INVNFCTQ', 'INVNFCTU', 'INVNFCTV', 'INVCONTI', 'INVWGHTI', 'INVWGHTQ', 'INVWGHTU', 'INVWGHTV', 'INVSTLGT', 'INVFREEP', 'INVFLPRF', 'INVPHMAP', 'INVVLAVE', 'INVBLAVE', 'INVBBAVE', 'INVNPRCS', 'INVNCNVG', 'INVKEYS1', 'INVKEYS2', 'INVKEYS3', 'INVKEYI1', 'INVKEYI2', 'INVKEYI3', 'CMASKL', 'INVKEYD1', 'USFLUXL', 'INVKEYD2', 'MEANGBL', 'INVKEYD3', 'AMBCODEV', 'AMBDOCU', 'AMBGMTRY', 'AMBPATCH', 'AMBWEAK', 'AMBNEROD', 'AMBNGROW', 'AMBNPAD', 'AMBNAP', 'AMBNTX', 'AMBNTY', 'AMBBTHR0', 'AMBBTHR1', 'AMBSEED', 'AMBNEQ', 'AMBLMBDA', 'AMBTFCT0', 'AMBTFCTR', 'DATAVALS', 'MISSVALS', 'DATAMIN', 'DATAMAX', 'DATAMEDN', 'DATAMEAN', 'DATARMS', 'T_REC_index', 'ERRGAM', 'ERRMSHA', 'ERRBH', 'ERRBT', 'ERRBZ', 'ERRALP', 'ERRMIH', 'CMASK', 'ERRUSI', 'ERRTAI', 'ERRMPOT', 'ERRTUI', 'DOFFSET', 'ERRJZ', 'ERRTPOT', 'ERRJHT', 'ERRVF']\n"
     ]
    }
   ],
   "source": [
    "client = drms.Client()\n",
    "keywords = client.keys('hmi.sharp_720s')\n",
    "print(keywords)"
   ]
  },
  {
   "cell_type": "markdown",
   "metadata": {},
   "source": [
    "获取bitmap_bzero为0的hmi.sharp_720s数据"
   ]
  },
  {
   "cell_type": "code",
   "execution_count": 48,
   "metadata": {},
   "outputs": [
    {
     "data": {
      "text/html": [
       "Results from 1 Provider:</br></br>61 Results from the JSOCClient:</br><div><i>JSOCResponse length=61</i>\n",
       "<table id=\"table5983564176\" class=\"table-striped table-bordered table-condensed\">\n",
       "<thead><tr><th>T_REC</th><th>TELESCOP</th><th>INSTRUME</th><th>WAVELNTH</th><th>CAR_ROT</th></tr></thead>\n",
       "<thead><tr><th>str23</th><th>str7</th><th>str9</th><th>float64</th><th>int64</th></tr></thead>\n",
       "<tr><td>2014.01.01_00:00:00_TAI</td><td>SDO/HMI</td><td>HMI_SIDE1</td><td>6173.0</td><td>2145</td></tr>\n",
       "<tr><td>2014.01.01_00:12:00_TAI</td><td>SDO/HMI</td><td>HMI_SIDE1</td><td>6173.0</td><td>2145</td></tr>\n",
       "<tr><td>2014.01.01_00:24:00_TAI</td><td>SDO/HMI</td><td>HMI_SIDE1</td><td>6173.0</td><td>2145</td></tr>\n",
       "<tr><td>2014.01.01_00:36:00_TAI</td><td>SDO/HMI</td><td>HMI_SIDE1</td><td>6173.0</td><td>2145</td></tr>\n",
       "<tr><td>2014.01.01_00:48:00_TAI</td><td>SDO/HMI</td><td>HMI_SIDE1</td><td>6173.0</td><td>2145</td></tr>\n",
       "<tr><td>2014.01.01_01:00:00_TAI</td><td>SDO/HMI</td><td>HMI_SIDE1</td><td>6173.0</td><td>2145</td></tr>\n",
       "<tr><td>2014.01.01_00:00:00_TAI</td><td>SDO/HMI</td><td>HMI_SIDE1</td><td>6173.0</td><td>2145</td></tr>\n",
       "<tr><td>2014.01.01_00:12:00_TAI</td><td>SDO/HMI</td><td>HMI_SIDE1</td><td>6173.0</td><td>2145</td></tr>\n",
       "<tr><td>2014.01.01_00:24:00_TAI</td><td>SDO/HMI</td><td>HMI_SIDE1</td><td>6173.0</td><td>2145</td></tr>\n",
       "<tr><td>...</td><td>...</td><td>...</td><td>...</td><td>...</td></tr>\n",
       "<tr><td>2014.01.01_00:24:00_TAI</td><td>SDO/HMI</td><td>HMI_SIDE1</td><td>6173.0</td><td>2145</td></tr>\n",
       "<tr><td>2014.01.01_00:36:00_TAI</td><td>SDO/HMI</td><td>HMI_SIDE1</td><td>6173.0</td><td>2145</td></tr>\n",
       "<tr><td>2014.01.01_00:48:00_TAI</td><td>SDO/HMI</td><td>HMI_SIDE1</td><td>6173.0</td><td>2145</td></tr>\n",
       "<tr><td>2014.01.01_01:00:00_TAI</td><td>SDO/HMI</td><td>HMI_SIDE1</td><td>6173.0</td><td>2145</td></tr>\n",
       "<tr><td>2014.01.01_00:00:00_TAI</td><td>SDO/HMI</td><td>HMI_SIDE1</td><td>6173.0</td><td>2145</td></tr>\n",
       "<tr><td>2014.01.01_00:12:00_TAI</td><td>SDO/HMI</td><td>HMI_SIDE1</td><td>6173.0</td><td>2145</td></tr>\n",
       "<tr><td>2014.01.01_00:24:00_TAI</td><td>SDO/HMI</td><td>HMI_SIDE1</td><td>6173.0</td><td>2145</td></tr>\n",
       "<tr><td>2014.01.01_00:36:00_TAI</td><td>SDO/HMI</td><td>HMI_SIDE1</td><td>6173.0</td><td>2145</td></tr>\n",
       "<tr><td>2014.01.01_00:48:00_TAI</td><td>SDO/HMI</td><td>HMI_SIDE1</td><td>6173.0</td><td>2145</td></tr>\n",
       "<tr><td>2014.01.01_01:00:00_TAI</td><td>SDO/HMI</td><td>HMI_SIDE1</td><td>6173.0</td><td>2145</td></tr>\n",
       "</table></div></br>"
      ],
      "text/plain": [
       "<sunpy.net.fido_factory.UnifiedResponse object at 0x164a5dfc0>\n",
       "Results from 1 Provider:\n",
       "\n",
       "61 Results from the JSOCClient:\n",
       "Source: http://jsoc.stanford.edu\n",
       "\n",
       "         T_REC          TELESCOP  INSTRUME WAVELNTH CAR_ROT\n",
       "----------------------- -------- --------- -------- -------\n",
       "2014.01.01_00:00:00_TAI  SDO/HMI HMI_SIDE1   6173.0    2145\n",
       "2014.01.01_00:12:00_TAI  SDO/HMI HMI_SIDE1   6173.0    2145\n",
       "2014.01.01_00:24:00_TAI  SDO/HMI HMI_SIDE1   6173.0    2145\n",
       "2014.01.01_00:36:00_TAI  SDO/HMI HMI_SIDE1   6173.0    2145\n",
       "2014.01.01_00:48:00_TAI  SDO/HMI HMI_SIDE1   6173.0    2145\n",
       "2014.01.01_01:00:00_TAI  SDO/HMI HMI_SIDE1   6173.0    2145\n",
       "2014.01.01_00:00:00_TAI  SDO/HMI HMI_SIDE1   6173.0    2145\n",
       "2014.01.01_00:12:00_TAI  SDO/HMI HMI_SIDE1   6173.0    2145\n",
       "2014.01.01_00:24:00_TAI  SDO/HMI HMI_SIDE1   6173.0    2145\n",
       "2014.01.01_00:36:00_TAI  SDO/HMI HMI_SIDE1   6173.0    2145\n",
       "                    ...      ...       ...      ...     ...\n",
       "2014.01.01_00:24:00_TAI  SDO/HMI HMI_SIDE1   6173.0    2145\n",
       "2014.01.01_00:36:00_TAI  SDO/HMI HMI_SIDE1   6173.0    2145\n",
       "2014.01.01_00:48:00_TAI  SDO/HMI HMI_SIDE1   6173.0    2145\n",
       "2014.01.01_01:00:00_TAI  SDO/HMI HMI_SIDE1   6173.0    2145\n",
       "2014.01.01_00:00:00_TAI  SDO/HMI HMI_SIDE1   6173.0    2145\n",
       "2014.01.01_00:12:00_TAI  SDO/HMI HMI_SIDE1   6173.0    2145\n",
       "2014.01.01_00:24:00_TAI  SDO/HMI HMI_SIDE1   6173.0    2145\n",
       "2014.01.01_00:36:00_TAI  SDO/HMI HMI_SIDE1   6173.0    2145\n",
       "2014.01.01_00:48:00_TAI  SDO/HMI HMI_SIDE1   6173.0    2145\n",
       "2014.01.01_01:00:00_TAI  SDO/HMI HMI_SIDE1   6173.0    2145\n",
       "Length = 61 rows\n"
      ]
     },
     "execution_count": 48,
     "metadata": {},
     "output_type": "execute_result"
    }
   ],
   "source": [
    "Fido.search(a.Time('2014-01-01T00:00:00', '2014-01-01T01:00:00'),\n",
    "            a.jsoc.Series('hmi.sharp_720s'),a.jsoc.Keyword('bitmap_bzero') == 0)"
   ]
  },
  {
   "cell_type": "markdown",
   "metadata": {},
   "source": [
    "当然也可以多个keyword叠加，比如同时要求bitmap_bzero为0和continuum_bscale大于0"
   ]
  },
  {
   "cell_type": "code",
   "execution_count": 49,
   "metadata": {},
   "outputs": [
    {
     "data": {
      "text/html": [
       "Results from 1 Provider:</br></br>61 Results from the JSOCClient:</br><div><i>JSOCResponse length=61</i>\n",
       "<table id=\"table5972599632\" class=\"table-striped table-bordered table-condensed\">\n",
       "<thead><tr><th>T_REC</th><th>TELESCOP</th><th>INSTRUME</th><th>WAVELNTH</th><th>CAR_ROT</th></tr></thead>\n",
       "<thead><tr><th>str23</th><th>str7</th><th>str9</th><th>float64</th><th>int64</th></tr></thead>\n",
       "<tr><td>2014.01.01_00:00:00_TAI</td><td>SDO/HMI</td><td>HMI_SIDE1</td><td>6173.0</td><td>2145</td></tr>\n",
       "<tr><td>2014.01.01_00:12:00_TAI</td><td>SDO/HMI</td><td>HMI_SIDE1</td><td>6173.0</td><td>2145</td></tr>\n",
       "<tr><td>2014.01.01_00:24:00_TAI</td><td>SDO/HMI</td><td>HMI_SIDE1</td><td>6173.0</td><td>2145</td></tr>\n",
       "<tr><td>2014.01.01_00:36:00_TAI</td><td>SDO/HMI</td><td>HMI_SIDE1</td><td>6173.0</td><td>2145</td></tr>\n",
       "<tr><td>2014.01.01_00:48:00_TAI</td><td>SDO/HMI</td><td>HMI_SIDE1</td><td>6173.0</td><td>2145</td></tr>\n",
       "<tr><td>2014.01.01_01:00:00_TAI</td><td>SDO/HMI</td><td>HMI_SIDE1</td><td>6173.0</td><td>2145</td></tr>\n",
       "<tr><td>2014.01.01_00:00:00_TAI</td><td>SDO/HMI</td><td>HMI_SIDE1</td><td>6173.0</td><td>2145</td></tr>\n",
       "<tr><td>2014.01.01_00:12:00_TAI</td><td>SDO/HMI</td><td>HMI_SIDE1</td><td>6173.0</td><td>2145</td></tr>\n",
       "<tr><td>2014.01.01_00:24:00_TAI</td><td>SDO/HMI</td><td>HMI_SIDE1</td><td>6173.0</td><td>2145</td></tr>\n",
       "<tr><td>...</td><td>...</td><td>...</td><td>...</td><td>...</td></tr>\n",
       "<tr><td>2014.01.01_00:24:00_TAI</td><td>SDO/HMI</td><td>HMI_SIDE1</td><td>6173.0</td><td>2145</td></tr>\n",
       "<tr><td>2014.01.01_00:36:00_TAI</td><td>SDO/HMI</td><td>HMI_SIDE1</td><td>6173.0</td><td>2145</td></tr>\n",
       "<tr><td>2014.01.01_00:48:00_TAI</td><td>SDO/HMI</td><td>HMI_SIDE1</td><td>6173.0</td><td>2145</td></tr>\n",
       "<tr><td>2014.01.01_01:00:00_TAI</td><td>SDO/HMI</td><td>HMI_SIDE1</td><td>6173.0</td><td>2145</td></tr>\n",
       "<tr><td>2014.01.01_00:00:00_TAI</td><td>SDO/HMI</td><td>HMI_SIDE1</td><td>6173.0</td><td>2145</td></tr>\n",
       "<tr><td>2014.01.01_00:12:00_TAI</td><td>SDO/HMI</td><td>HMI_SIDE1</td><td>6173.0</td><td>2145</td></tr>\n",
       "<tr><td>2014.01.01_00:24:00_TAI</td><td>SDO/HMI</td><td>HMI_SIDE1</td><td>6173.0</td><td>2145</td></tr>\n",
       "<tr><td>2014.01.01_00:36:00_TAI</td><td>SDO/HMI</td><td>HMI_SIDE1</td><td>6173.0</td><td>2145</td></tr>\n",
       "<tr><td>2014.01.01_00:48:00_TAI</td><td>SDO/HMI</td><td>HMI_SIDE1</td><td>6173.0</td><td>2145</td></tr>\n",
       "<tr><td>2014.01.01_01:00:00_TAI</td><td>SDO/HMI</td><td>HMI_SIDE1</td><td>6173.0</td><td>2145</td></tr>\n",
       "</table></div></br>"
      ],
      "text/plain": [
       "<sunpy.net.fido_factory.UnifiedResponse object at 0x163feb250>\n",
       "Results from 1 Provider:\n",
       "\n",
       "61 Results from the JSOCClient:\n",
       "Source: http://jsoc.stanford.edu\n",
       "\n",
       "         T_REC          TELESCOP  INSTRUME WAVELNTH CAR_ROT\n",
       "----------------------- -------- --------- -------- -------\n",
       "2014.01.01_00:00:00_TAI  SDO/HMI HMI_SIDE1   6173.0    2145\n",
       "2014.01.01_00:12:00_TAI  SDO/HMI HMI_SIDE1   6173.0    2145\n",
       "2014.01.01_00:24:00_TAI  SDO/HMI HMI_SIDE1   6173.0    2145\n",
       "2014.01.01_00:36:00_TAI  SDO/HMI HMI_SIDE1   6173.0    2145\n",
       "2014.01.01_00:48:00_TAI  SDO/HMI HMI_SIDE1   6173.0    2145\n",
       "2014.01.01_01:00:00_TAI  SDO/HMI HMI_SIDE1   6173.0    2145\n",
       "2014.01.01_00:00:00_TAI  SDO/HMI HMI_SIDE1   6173.0    2145\n",
       "2014.01.01_00:12:00_TAI  SDO/HMI HMI_SIDE1   6173.0    2145\n",
       "2014.01.01_00:24:00_TAI  SDO/HMI HMI_SIDE1   6173.0    2145\n",
       "2014.01.01_00:36:00_TAI  SDO/HMI HMI_SIDE1   6173.0    2145\n",
       "                    ...      ...       ...      ...     ...\n",
       "2014.01.01_00:24:00_TAI  SDO/HMI HMI_SIDE1   6173.0    2145\n",
       "2014.01.01_00:36:00_TAI  SDO/HMI HMI_SIDE1   6173.0    2145\n",
       "2014.01.01_00:48:00_TAI  SDO/HMI HMI_SIDE1   6173.0    2145\n",
       "2014.01.01_01:00:00_TAI  SDO/HMI HMI_SIDE1   6173.0    2145\n",
       "2014.01.01_00:00:00_TAI  SDO/HMI HMI_SIDE1   6173.0    2145\n",
       "2014.01.01_00:12:00_TAI  SDO/HMI HMI_SIDE1   6173.0    2145\n",
       "2014.01.01_00:24:00_TAI  SDO/HMI HMI_SIDE1   6173.0    2145\n",
       "2014.01.01_00:36:00_TAI  SDO/HMI HMI_SIDE1   6173.0    2145\n",
       "2014.01.01_00:48:00_TAI  SDO/HMI HMI_SIDE1   6173.0    2145\n",
       "2014.01.01_01:00:00_TAI  SDO/HMI HMI_SIDE1   6173.0    2145\n",
       "Length = 61 rows\n"
      ]
     },
     "execution_count": 49,
     "metadata": {},
     "output_type": "execute_result"
    }
   ],
   "source": [
    "Fido.search(a.Time('2014-01-01T00:00:00', '2014-01-01T01:00:00'), a.jsoc.Series('hmi.sharp_720s'),\n",
    "            a.jsoc.Keyword('bitmap_bzero') == 0, a.jsoc.Keyword('continuum_bscale') > 0)"
   ]
  },
  {
   "cell_type": "markdown",
   "metadata": {},
   "source": [
    "sample:指定查询数据的观测时间间隔。例如：在Fido.search中加入a.Sample(10*u.min)代表以10分钟为间隔获取数据"
   ]
  },
  {
   "cell_type": "code",
   "execution_count": 50,
   "metadata": {},
   "outputs": [
    {
     "data": {
      "text/html": [
       "Results from 1 Provider:</br></br>7 Results from the JSOCClient:</br><div><i>JSOCResponse length=7</i>\n",
       "<table id=\"table5972417440\" class=\"table-striped table-bordered table-condensed\">\n",
       "<thead><tr><th>T_REC</th><th>TELESCOP</th><th>INSTRUME</th><th>WAVELNTH</th><th>CAR_ROT</th></tr></thead>\n",
       "<thead><tr><th>str23</th><th>str7</th><th>str10</th><th>float64</th><th>int64</th></tr></thead>\n",
       "<tr><td>2014.01.01_00:00:45_TAI</td><td>SDO/HMI</td><td>HMI_FRONT2</td><td>6173.0</td><td>2145</td></tr>\n",
       "<tr><td>2014.01.01_00:10:30_TAI</td><td>SDO/HMI</td><td>HMI_FRONT2</td><td>6173.0</td><td>2145</td></tr>\n",
       "<tr><td>2014.01.01_00:20:15_TAI</td><td>SDO/HMI</td><td>HMI_FRONT2</td><td>6173.0</td><td>2145</td></tr>\n",
       "<tr><td>2014.01.01_00:30:00_TAI</td><td>SDO/HMI</td><td>HMI_FRONT2</td><td>6173.0</td><td>2145</td></tr>\n",
       "<tr><td>2014.01.01_00:39:45_TAI</td><td>SDO/HMI</td><td>HMI_FRONT2</td><td>6173.0</td><td>2145</td></tr>\n",
       "<tr><td>2014.01.01_00:49:30_TAI</td><td>SDO/HMI</td><td>HMI_FRONT2</td><td>6173.0</td><td>2145</td></tr>\n",
       "<tr><td>2014.01.01_00:59:15_TAI</td><td>SDO/HMI</td><td>HMI_FRONT2</td><td>6173.0</td><td>2145</td></tr>\n",
       "</table></div></br>"
      ],
      "text/plain": [
       "<sunpy.net.fido_factory.UnifiedResponse object at 0x1413cf880>\n",
       "Results from 1 Provider:\n",
       "\n",
       "7 Results from the JSOCClient:\n",
       "Source: http://jsoc.stanford.edu\n",
       "\n",
       "         T_REC          TELESCOP  INSTRUME  WAVELNTH CAR_ROT\n",
       "----------------------- -------- ---------- -------- -------\n",
       "2014.01.01_00:00:45_TAI  SDO/HMI HMI_FRONT2   6173.0    2145\n",
       "2014.01.01_00:10:30_TAI  SDO/HMI HMI_FRONT2   6173.0    2145\n",
       "2014.01.01_00:20:15_TAI  SDO/HMI HMI_FRONT2   6173.0    2145\n",
       "2014.01.01_00:30:00_TAI  SDO/HMI HMI_FRONT2   6173.0    2145\n",
       "2014.01.01_00:39:45_TAI  SDO/HMI HMI_FRONT2   6173.0    2145\n",
       "2014.01.01_00:49:30_TAI  SDO/HMI HMI_FRONT2   6173.0    2145\n",
       "2014.01.01_00:59:15_TAI  SDO/HMI HMI_FRONT2   6173.0    2145\n"
      ]
     },
     "execution_count": 50,
     "metadata": {},
     "output_type": "execute_result"
    }
   ],
   "source": [
    "Fido.search(a.Time('2014-01-01T00:00:00', '2014-01-01T01:00:00'),\n",
    "            a.jsoc.Series('hmi.v_45s'), a.Sample(10*u.min))"
   ]
  },
  {
   "cell_type": "markdown",
   "metadata": {},
   "source": [
    "也可以同时获取两种数据："
   ]
  },
  {
   "cell_type": "code",
   "execution_count": 51,
   "metadata": {},
   "outputs": [
    {
     "data": {
      "text/html": [
       "Results from 2 Providers:</br></br>81 Results from the JSOCClient:</br><div><i>JSOCResponse length=81</i>\n",
       "<table id=\"table5393500672\" class=\"table-striped table-bordered table-condensed\">\n",
       "<thead><tr><th>T_REC</th><th>TELESCOP</th><th>INSTRUME</th><th>WAVELNTH</th><th>CAR_ROT</th></tr></thead>\n",
       "<thead><tr><th>str23</th><th>str7</th><th>str10</th><th>float64</th><th>int64</th></tr></thead>\n",
       "<tr><td>2014.01.01_00:00:45_TAI</td><td>SDO/HMI</td><td>HMI_FRONT2</td><td>6173.0</td><td>2145</td></tr>\n",
       "<tr><td>2014.01.01_00:01:30_TAI</td><td>SDO/HMI</td><td>HMI_FRONT2</td><td>6173.0</td><td>2145</td></tr>\n",
       "<tr><td>2014.01.01_00:02:15_TAI</td><td>SDO/HMI</td><td>HMI_FRONT2</td><td>6173.0</td><td>2145</td></tr>\n",
       "<tr><td>2014.01.01_00:03:00_TAI</td><td>SDO/HMI</td><td>HMI_FRONT2</td><td>6173.0</td><td>2145</td></tr>\n",
       "<tr><td>2014.01.01_00:03:45_TAI</td><td>SDO/HMI</td><td>HMI_FRONT2</td><td>6173.0</td><td>2145</td></tr>\n",
       "<tr><td>2014.01.01_00:04:30_TAI</td><td>SDO/HMI</td><td>HMI_FRONT2</td><td>6173.0</td><td>2145</td></tr>\n",
       "<tr><td>2014.01.01_00:05:15_TAI</td><td>SDO/HMI</td><td>HMI_FRONT2</td><td>6173.0</td><td>2145</td></tr>\n",
       "<tr><td>2014.01.01_00:06:00_TAI</td><td>SDO/HMI</td><td>HMI_FRONT2</td><td>6173.0</td><td>2145</td></tr>\n",
       "<tr><td>2014.01.01_00:06:45_TAI</td><td>SDO/HMI</td><td>HMI_FRONT2</td><td>6173.0</td><td>2145</td></tr>\n",
       "<tr><td>...</td><td>...</td><td>...</td><td>...</td><td>...</td></tr>\n",
       "<tr><td>2014.01.01_00:54:00_TAI</td><td>SDO/HMI</td><td>HMI_FRONT2</td><td>6173.0</td><td>2145</td></tr>\n",
       "<tr><td>2014.01.01_00:54:45_TAI</td><td>SDO/HMI</td><td>HMI_FRONT2</td><td>6173.0</td><td>2145</td></tr>\n",
       "<tr><td>2014.01.01_00:55:30_TAI</td><td>SDO/HMI</td><td>HMI_FRONT2</td><td>6173.0</td><td>2145</td></tr>\n",
       "<tr><td>2014.01.01_00:56:15_TAI</td><td>SDO/HMI</td><td>HMI_FRONT2</td><td>6173.0</td><td>2145</td></tr>\n",
       "<tr><td>2014.01.01_00:57:00_TAI</td><td>SDO/HMI</td><td>HMI_FRONT2</td><td>6173.0</td><td>2145</td></tr>\n",
       "<tr><td>2014.01.01_00:57:45_TAI</td><td>SDO/HMI</td><td>HMI_FRONT2</td><td>6173.0</td><td>2145</td></tr>\n",
       "<tr><td>2014.01.01_00:58:30_TAI</td><td>SDO/HMI</td><td>HMI_FRONT2</td><td>6173.0</td><td>2145</td></tr>\n",
       "<tr><td>2014.01.01_00:59:15_TAI</td><td>SDO/HMI</td><td>HMI_FRONT2</td><td>6173.0</td><td>2145</td></tr>\n",
       "<tr><td>2014.01.01_01:00:00_TAI</td><td>SDO/HMI</td><td>HMI_FRONT2</td><td>6173.0</td><td>2145</td></tr>\n",
       "<tr><td>2014.01.01_01:00:45_TAI</td><td>SDO/HMI</td><td>HMI_FRONT2</td><td>6173.0</td><td>2145</td></tr>\n",
       "</table></div></br>2107 Results from the JSOCClient:</br><div><i>JSOCResponse length=2107</i>\n",
       "<table id=\"table5392798416\" class=\"table-striped table-bordered table-condensed\">\n",
       "<thead><tr><th>T_REC</th><th>TELESCOP</th><th>INSTRUME</th><th>WAVELNTH</th><th>CAR_ROT</th></tr></thead>\n",
       "<thead><tr><th>str20</th><th>str7</th><th>str5</th><th>int64</th><th>int64</th></tr></thead>\n",
       "<tr><td>2014-01-01T00:00:01Z</td><td>SDO/AIA</td><td>AIA_4</td><td>94</td><td>2145</td></tr>\n",
       "<tr><td>2014-01-01T00:00:01Z</td><td>SDO/AIA</td><td>AIA_1</td><td>131</td><td>2145</td></tr>\n",
       "<tr><td>2014-01-01T00:00:01Z</td><td>SDO/AIA</td><td>AIA_3</td><td>171</td><td>2145</td></tr>\n",
       "<tr><td>2014-01-01T00:00:01Z</td><td>SDO/AIA</td><td>AIA_2</td><td>193</td><td>2145</td></tr>\n",
       "<tr><td>2014-01-01T00:00:01Z</td><td>SDO/AIA</td><td>AIA_2</td><td>211</td><td>2145</td></tr>\n",
       "<tr><td>2014-01-01T00:00:01Z</td><td>SDO/AIA</td><td>AIA_4</td><td>304</td><td>2145</td></tr>\n",
       "<tr><td>2014-01-01T00:00:01Z</td><td>SDO/AIA</td><td>AIA_1</td><td>335</td><td>2145</td></tr>\n",
       "<tr><td>2014-01-01T00:00:13Z</td><td>SDO/AIA</td><td>AIA_4</td><td>94</td><td>2145</td></tr>\n",
       "<tr><td>2014-01-01T00:00:13Z</td><td>SDO/AIA</td><td>AIA_1</td><td>131</td><td>2145</td></tr>\n",
       "<tr><td>...</td><td>...</td><td>...</td><td>...</td><td>...</td></tr>\n",
       "<tr><td>2014-01-01T00:59:49Z</td><td>SDO/AIA</td><td>AIA_2</td><td>211</td><td>2145</td></tr>\n",
       "<tr><td>2014-01-01T00:59:49Z</td><td>SDO/AIA</td><td>AIA_4</td><td>304</td><td>2145</td></tr>\n",
       "<tr><td>2014-01-01T00:59:49Z</td><td>SDO/AIA</td><td>AIA_1</td><td>335</td><td>2145</td></tr>\n",
       "<tr><td>2014-01-01T01:00:01Z</td><td>SDO/AIA</td><td>AIA_4</td><td>94</td><td>2145</td></tr>\n",
       "<tr><td>2014-01-01T01:00:01Z</td><td>SDO/AIA</td><td>AIA_1</td><td>131</td><td>2145</td></tr>\n",
       "<tr><td>2014-01-01T01:00:01Z</td><td>SDO/AIA</td><td>AIA_3</td><td>171</td><td>2145</td></tr>\n",
       "<tr><td>2014-01-01T01:00:01Z</td><td>SDO/AIA</td><td>AIA_2</td><td>193</td><td>2145</td></tr>\n",
       "<tr><td>2014-01-01T01:00:01Z</td><td>SDO/AIA</td><td>AIA_2</td><td>211</td><td>2145</td></tr>\n",
       "<tr><td>2014-01-01T01:00:01Z</td><td>SDO/AIA</td><td>AIA_4</td><td>304</td><td>2145</td></tr>\n",
       "<tr><td>2014-01-01T01:00:01Z</td><td>SDO/AIA</td><td>AIA_1</td><td>335</td><td>2145</td></tr>\n",
       "</table></div></br>"
      ],
      "text/plain": [
       "<sunpy.net.fido_factory.UnifiedResponse object at 0x1415a4070>\n",
       "Results from 2 Providers:\n",
       "\n",
       "81 Results from the JSOCClient:\n",
       "Source: http://jsoc.stanford.edu\n",
       "\n",
       "         T_REC          TELESCOP  INSTRUME  WAVELNTH CAR_ROT\n",
       "----------------------- -------- ---------- -------- -------\n",
       "2014.01.01_00:00:45_TAI  SDO/HMI HMI_FRONT2   6173.0    2145\n",
       "2014.01.01_00:01:30_TAI  SDO/HMI HMI_FRONT2   6173.0    2145\n",
       "2014.01.01_00:02:15_TAI  SDO/HMI HMI_FRONT2   6173.0    2145\n",
       "2014.01.01_00:03:00_TAI  SDO/HMI HMI_FRONT2   6173.0    2145\n",
       "2014.01.01_00:03:45_TAI  SDO/HMI HMI_FRONT2   6173.0    2145\n",
       "2014.01.01_00:04:30_TAI  SDO/HMI HMI_FRONT2   6173.0    2145\n",
       "2014.01.01_00:05:15_TAI  SDO/HMI HMI_FRONT2   6173.0    2145\n",
       "2014.01.01_00:06:00_TAI  SDO/HMI HMI_FRONT2   6173.0    2145\n",
       "2014.01.01_00:06:45_TAI  SDO/HMI HMI_FRONT2   6173.0    2145\n",
       "2014.01.01_00:07:30_TAI  SDO/HMI HMI_FRONT2   6173.0    2145\n",
       "                    ...      ...        ...      ...     ...\n",
       "2014.01.01_00:54:00_TAI  SDO/HMI HMI_FRONT2   6173.0    2145\n",
       "2014.01.01_00:54:45_TAI  SDO/HMI HMI_FRONT2   6173.0    2145\n",
       "2014.01.01_00:55:30_TAI  SDO/HMI HMI_FRONT2   6173.0    2145\n",
       "2014.01.01_00:56:15_TAI  SDO/HMI HMI_FRONT2   6173.0    2145\n",
       "2014.01.01_00:57:00_TAI  SDO/HMI HMI_FRONT2   6173.0    2145\n",
       "2014.01.01_00:57:45_TAI  SDO/HMI HMI_FRONT2   6173.0    2145\n",
       "2014.01.01_00:58:30_TAI  SDO/HMI HMI_FRONT2   6173.0    2145\n",
       "2014.01.01_00:59:15_TAI  SDO/HMI HMI_FRONT2   6173.0    2145\n",
       "2014.01.01_01:00:00_TAI  SDO/HMI HMI_FRONT2   6173.0    2145\n",
       "2014.01.01_01:00:45_TAI  SDO/HMI HMI_FRONT2   6173.0    2145\n",
       "Length = 81 rows\n",
       "\n",
       "2107 Results from the JSOCClient:\n",
       "Source: http://jsoc.stanford.edu\n",
       "\n",
       "       T_REC         TELESCOP INSTRUME WAVELNTH CAR_ROT\n",
       "-------------------- -------- -------- -------- -------\n",
       "2014-01-01T00:00:01Z  SDO/AIA    AIA_4       94    2145\n",
       "2014-01-01T00:00:01Z  SDO/AIA    AIA_1      131    2145\n",
       "2014-01-01T00:00:01Z  SDO/AIA    AIA_3      171    2145\n",
       "2014-01-01T00:00:01Z  SDO/AIA    AIA_2      193    2145\n",
       "2014-01-01T00:00:01Z  SDO/AIA    AIA_2      211    2145\n",
       "2014-01-01T00:00:01Z  SDO/AIA    AIA_4      304    2145\n",
       "2014-01-01T00:00:01Z  SDO/AIA    AIA_1      335    2145\n",
       "2014-01-01T00:00:13Z  SDO/AIA    AIA_4       94    2145\n",
       "2014-01-01T00:00:13Z  SDO/AIA    AIA_1      131    2145\n",
       "2014-01-01T00:00:13Z  SDO/AIA    AIA_3      171    2145\n",
       "                 ...      ...      ...      ...     ...\n",
       "2014-01-01T00:59:49Z  SDO/AIA    AIA_2      211    2145\n",
       "2014-01-01T00:59:49Z  SDO/AIA    AIA_4      304    2145\n",
       "2014-01-01T00:59:49Z  SDO/AIA    AIA_1      335    2145\n",
       "2014-01-01T01:00:01Z  SDO/AIA    AIA_4       94    2145\n",
       "2014-01-01T01:00:01Z  SDO/AIA    AIA_1      131    2145\n",
       "2014-01-01T01:00:01Z  SDO/AIA    AIA_3      171    2145\n",
       "2014-01-01T01:00:01Z  SDO/AIA    AIA_2      193    2145\n",
       "2014-01-01T01:00:01Z  SDO/AIA    AIA_2      211    2145\n",
       "2014-01-01T01:00:01Z  SDO/AIA    AIA_4      304    2145\n",
       "2014-01-01T01:00:01Z  SDO/AIA    AIA_1      335    2145\n",
       "Length = 2107 rows\n"
      ]
     },
     "execution_count": 51,
     "metadata": {},
     "output_type": "execute_result"
    }
   ],
   "source": [
    "Fido.search(a.Time('2014-01-01T00:00:00', '2014-01-01T01:00:00'),\n",
    "            a.jsoc.Series('hmi.v_45s') | a.jsoc.Series('aia.lev1_euv_12s'))"
   ]
  },
  {
   "cell_type": "markdown",
   "metadata": {},
   "source": [
    "或者同一种数据在两个不同时间段内的结果："
   ]
  },
  {
   "cell_type": "code",
   "execution_count": 52,
   "metadata": {},
   "outputs": [
    {
     "data": {
      "text/html": [
       "Results from 2 Providers:</br></br>81 Results from the JSOCClient:</br><div><i>JSOCResponse length=81</i>\n",
       "<table id=\"table5934659328\" class=\"table-striped table-bordered table-condensed\">\n",
       "<thead><tr><th>T_REC</th><th>TELESCOP</th><th>INSTRUME</th><th>WAVELNTH</th><th>CAR_ROT</th></tr></thead>\n",
       "<thead><tr><th>str23</th><th>str7</th><th>str10</th><th>float64</th><th>int64</th></tr></thead>\n",
       "<tr><td>2014.01.01_00:00:45_TAI</td><td>SDO/HMI</td><td>HMI_FRONT2</td><td>6173.0</td><td>2145</td></tr>\n",
       "<tr><td>2014.01.01_00:01:30_TAI</td><td>SDO/HMI</td><td>HMI_FRONT2</td><td>6173.0</td><td>2145</td></tr>\n",
       "<tr><td>2014.01.01_00:02:15_TAI</td><td>SDO/HMI</td><td>HMI_FRONT2</td><td>6173.0</td><td>2145</td></tr>\n",
       "<tr><td>2014.01.01_00:03:00_TAI</td><td>SDO/HMI</td><td>HMI_FRONT2</td><td>6173.0</td><td>2145</td></tr>\n",
       "<tr><td>2014.01.01_00:03:45_TAI</td><td>SDO/HMI</td><td>HMI_FRONT2</td><td>6173.0</td><td>2145</td></tr>\n",
       "<tr><td>2014.01.01_00:04:30_TAI</td><td>SDO/HMI</td><td>HMI_FRONT2</td><td>6173.0</td><td>2145</td></tr>\n",
       "<tr><td>2014.01.01_00:05:15_TAI</td><td>SDO/HMI</td><td>HMI_FRONT2</td><td>6173.0</td><td>2145</td></tr>\n",
       "<tr><td>2014.01.01_00:06:00_TAI</td><td>SDO/HMI</td><td>HMI_FRONT2</td><td>6173.0</td><td>2145</td></tr>\n",
       "<tr><td>2014.01.01_00:06:45_TAI</td><td>SDO/HMI</td><td>HMI_FRONT2</td><td>6173.0</td><td>2145</td></tr>\n",
       "<tr><td>...</td><td>...</td><td>...</td><td>...</td><td>...</td></tr>\n",
       "<tr><td>2014.01.01_00:54:00_TAI</td><td>SDO/HMI</td><td>HMI_FRONT2</td><td>6173.0</td><td>2145</td></tr>\n",
       "<tr><td>2014.01.01_00:54:45_TAI</td><td>SDO/HMI</td><td>HMI_FRONT2</td><td>6173.0</td><td>2145</td></tr>\n",
       "<tr><td>2014.01.01_00:55:30_TAI</td><td>SDO/HMI</td><td>HMI_FRONT2</td><td>6173.0</td><td>2145</td></tr>\n",
       "<tr><td>2014.01.01_00:56:15_TAI</td><td>SDO/HMI</td><td>HMI_FRONT2</td><td>6173.0</td><td>2145</td></tr>\n",
       "<tr><td>2014.01.01_00:57:00_TAI</td><td>SDO/HMI</td><td>HMI_FRONT2</td><td>6173.0</td><td>2145</td></tr>\n",
       "<tr><td>2014.01.01_00:57:45_TAI</td><td>SDO/HMI</td><td>HMI_FRONT2</td><td>6173.0</td><td>2145</td></tr>\n",
       "<tr><td>2014.01.01_00:58:30_TAI</td><td>SDO/HMI</td><td>HMI_FRONT2</td><td>6173.0</td><td>2145</td></tr>\n",
       "<tr><td>2014.01.01_00:59:15_TAI</td><td>SDO/HMI</td><td>HMI_FRONT2</td><td>6173.0</td><td>2145</td></tr>\n",
       "<tr><td>2014.01.01_01:00:00_TAI</td><td>SDO/HMI</td><td>HMI_FRONT2</td><td>6173.0</td><td>2145</td></tr>\n",
       "<tr><td>2014.01.01_01:00:45_TAI</td><td>SDO/HMI</td><td>HMI_FRONT2</td><td>6173.0</td><td>2145</td></tr>\n",
       "</table></div></br>81 Results from the JSOCClient:</br><div><i>JSOCResponse length=81</i>\n",
       "<table id=\"table5934658944\" class=\"table-striped table-bordered table-condensed\">\n",
       "<thead><tr><th>T_REC</th><th>TELESCOP</th><th>INSTRUME</th><th>WAVELNTH</th><th>CAR_ROT</th></tr></thead>\n",
       "<thead><tr><th>str23</th><th>str7</th><th>str10</th><th>float64</th><th>int64</th></tr></thead>\n",
       "<tr><td>2014.01.02_00:00:45_TAI</td><td>SDO/HMI</td><td>HMI_FRONT2</td><td>6173.0</td><td>2145</td></tr>\n",
       "<tr><td>2014.01.02_00:01:30_TAI</td><td>SDO/HMI</td><td>HMI_FRONT2</td><td>6173.0</td><td>2145</td></tr>\n",
       "<tr><td>2014.01.02_00:02:15_TAI</td><td>SDO/HMI</td><td>HMI_FRONT2</td><td>6173.0</td><td>2145</td></tr>\n",
       "<tr><td>2014.01.02_00:03:00_TAI</td><td>SDO/HMI</td><td>HMI_FRONT2</td><td>6173.0</td><td>2145</td></tr>\n",
       "<tr><td>2014.01.02_00:03:45_TAI</td><td>SDO/HMI</td><td>HMI_FRONT2</td><td>6173.0</td><td>2145</td></tr>\n",
       "<tr><td>2014.01.02_00:04:30_TAI</td><td>SDO/HMI</td><td>HMI_FRONT2</td><td>6173.0</td><td>2145</td></tr>\n",
       "<tr><td>2014.01.02_00:05:15_TAI</td><td>SDO/HMI</td><td>HMI_FRONT2</td><td>6173.0</td><td>2145</td></tr>\n",
       "<tr><td>2014.01.02_00:06:00_TAI</td><td>SDO/HMI</td><td>HMI_FRONT2</td><td>6173.0</td><td>2145</td></tr>\n",
       "<tr><td>2014.01.02_00:06:45_TAI</td><td>SDO/HMI</td><td>HMI_FRONT2</td><td>6173.0</td><td>2145</td></tr>\n",
       "<tr><td>...</td><td>...</td><td>...</td><td>...</td><td>...</td></tr>\n",
       "<tr><td>2014.01.02_00:54:00_TAI</td><td>SDO/HMI</td><td>HMI_FRONT2</td><td>6173.0</td><td>2145</td></tr>\n",
       "<tr><td>2014.01.02_00:54:45_TAI</td><td>SDO/HMI</td><td>HMI_FRONT2</td><td>6173.0</td><td>2145</td></tr>\n",
       "<tr><td>2014.01.02_00:55:30_TAI</td><td>SDO/HMI</td><td>HMI_FRONT2</td><td>6173.0</td><td>2145</td></tr>\n",
       "<tr><td>2014.01.02_00:56:15_TAI</td><td>SDO/HMI</td><td>HMI_FRONT2</td><td>6173.0</td><td>2145</td></tr>\n",
       "<tr><td>2014.01.02_00:57:00_TAI</td><td>SDO/HMI</td><td>HMI_FRONT2</td><td>6173.0</td><td>2145</td></tr>\n",
       "<tr><td>2014.01.02_00:57:45_TAI</td><td>SDO/HMI</td><td>HMI_FRONT2</td><td>6173.0</td><td>2145</td></tr>\n",
       "<tr><td>2014.01.02_00:58:30_TAI</td><td>SDO/HMI</td><td>HMI_FRONT2</td><td>6173.0</td><td>2145</td></tr>\n",
       "<tr><td>2014.01.02_00:59:15_TAI</td><td>SDO/HMI</td><td>HMI_FRONT2</td><td>6173.0</td><td>2145</td></tr>\n",
       "<tr><td>2014.01.02_01:00:00_TAI</td><td>SDO/HMI</td><td>HMI_FRONT2</td><td>6173.0</td><td>2145</td></tr>\n",
       "<tr><td>2014.01.02_01:00:45_TAI</td><td>SDO/HMI</td><td>HMI_FRONT2</td><td>6173.0</td><td>2145</td></tr>\n",
       "</table></div></br>"
      ],
      "text/plain": [
       "<sunpy.net.fido_factory.UnifiedResponse object at 0x161bbbca0>\n",
       "Results from 2 Providers:\n",
       "\n",
       "81 Results from the JSOCClient:\n",
       "Source: http://jsoc.stanford.edu\n",
       "\n",
       "         T_REC          TELESCOP  INSTRUME  WAVELNTH CAR_ROT\n",
       "----------------------- -------- ---------- -------- -------\n",
       "2014.01.01_00:00:45_TAI  SDO/HMI HMI_FRONT2   6173.0    2145\n",
       "2014.01.01_00:01:30_TAI  SDO/HMI HMI_FRONT2   6173.0    2145\n",
       "2014.01.01_00:02:15_TAI  SDO/HMI HMI_FRONT2   6173.0    2145\n",
       "2014.01.01_00:03:00_TAI  SDO/HMI HMI_FRONT2   6173.0    2145\n",
       "2014.01.01_00:03:45_TAI  SDO/HMI HMI_FRONT2   6173.0    2145\n",
       "2014.01.01_00:04:30_TAI  SDO/HMI HMI_FRONT2   6173.0    2145\n",
       "2014.01.01_00:05:15_TAI  SDO/HMI HMI_FRONT2   6173.0    2145\n",
       "2014.01.01_00:06:00_TAI  SDO/HMI HMI_FRONT2   6173.0    2145\n",
       "2014.01.01_00:06:45_TAI  SDO/HMI HMI_FRONT2   6173.0    2145\n",
       "2014.01.01_00:07:30_TAI  SDO/HMI HMI_FRONT2   6173.0    2145\n",
       "                    ...      ...        ...      ...     ...\n",
       "2014.01.01_00:54:00_TAI  SDO/HMI HMI_FRONT2   6173.0    2145\n",
       "2014.01.01_00:54:45_TAI  SDO/HMI HMI_FRONT2   6173.0    2145\n",
       "2014.01.01_00:55:30_TAI  SDO/HMI HMI_FRONT2   6173.0    2145\n",
       "2014.01.01_00:56:15_TAI  SDO/HMI HMI_FRONT2   6173.0    2145\n",
       "2014.01.01_00:57:00_TAI  SDO/HMI HMI_FRONT2   6173.0    2145\n",
       "2014.01.01_00:57:45_TAI  SDO/HMI HMI_FRONT2   6173.0    2145\n",
       "2014.01.01_00:58:30_TAI  SDO/HMI HMI_FRONT2   6173.0    2145\n",
       "2014.01.01_00:59:15_TAI  SDO/HMI HMI_FRONT2   6173.0    2145\n",
       "2014.01.01_01:00:00_TAI  SDO/HMI HMI_FRONT2   6173.0    2145\n",
       "2014.01.01_01:00:45_TAI  SDO/HMI HMI_FRONT2   6173.0    2145\n",
       "Length = 81 rows\n",
       "\n",
       "81 Results from the JSOCClient:\n",
       "Source: http://jsoc.stanford.edu\n",
       "\n",
       "         T_REC          TELESCOP  INSTRUME  WAVELNTH CAR_ROT\n",
       "----------------------- -------- ---------- -------- -------\n",
       "2014.01.02_00:00:45_TAI  SDO/HMI HMI_FRONT2   6173.0    2145\n",
       "2014.01.02_00:01:30_TAI  SDO/HMI HMI_FRONT2   6173.0    2145\n",
       "2014.01.02_00:02:15_TAI  SDO/HMI HMI_FRONT2   6173.0    2145\n",
       "2014.01.02_00:03:00_TAI  SDO/HMI HMI_FRONT2   6173.0    2145\n",
       "2014.01.02_00:03:45_TAI  SDO/HMI HMI_FRONT2   6173.0    2145\n",
       "2014.01.02_00:04:30_TAI  SDO/HMI HMI_FRONT2   6173.0    2145\n",
       "2014.01.02_00:05:15_TAI  SDO/HMI HMI_FRONT2   6173.0    2145\n",
       "2014.01.02_00:06:00_TAI  SDO/HMI HMI_FRONT2   6173.0    2145\n",
       "2014.01.02_00:06:45_TAI  SDO/HMI HMI_FRONT2   6173.0    2145\n",
       "2014.01.02_00:07:30_TAI  SDO/HMI HMI_FRONT2   6173.0    2145\n",
       "                    ...      ...        ...      ...     ...\n",
       "2014.01.02_00:54:00_TAI  SDO/HMI HMI_FRONT2   6173.0    2145\n",
       "2014.01.02_00:54:45_TAI  SDO/HMI HMI_FRONT2   6173.0    2145\n",
       "2014.01.02_00:55:30_TAI  SDO/HMI HMI_FRONT2   6173.0    2145\n",
       "2014.01.02_00:56:15_TAI  SDO/HMI HMI_FRONT2   6173.0    2145\n",
       "2014.01.02_00:57:00_TAI  SDO/HMI HMI_FRONT2   6173.0    2145\n",
       "2014.01.02_00:57:45_TAI  SDO/HMI HMI_FRONT2   6173.0    2145\n",
       "2014.01.02_00:58:30_TAI  SDO/HMI HMI_FRONT2   6173.0    2145\n",
       "2014.01.02_00:59:15_TAI  SDO/HMI HMI_FRONT2   6173.0    2145\n",
       "2014.01.02_01:00:00_TAI  SDO/HMI HMI_FRONT2   6173.0    2145\n",
       "2014.01.02_01:00:45_TAI  SDO/HMI HMI_FRONT2   6173.0    2145\n",
       "Length = 81 rows\n"
      ]
     },
     "execution_count": 52,
     "metadata": {},
     "output_type": "execute_result"
    }
   ],
   "source": [
    "Fido.search(a.Time('2014-01-01T00:00:00', '2014-01-01T01:00:00') |\n",
    "            a.Time('2014-01-02T00:00:00', '2014-01-02T01:00:00'),\n",
    "            a.jsoc.Series('hmi.v_45s'))"
   ]
  },
  {
   "cell_type": "markdown",
   "metadata": {},
   "source": [
    "数据的下载：\n",
    "只需要将Fido.search的查询结果保存为res，然后使用Fido.fetch将数据下载到本地。默认下载路径为~/sunpy/data/\n",
    "如果要指定下载路径，可以使用path参数。注意最后要加上{file}，否则文件将保存为路径中的名称。"
   ]
  },
  {
   "cell_type": "code",
   "execution_count": 53,
   "metadata": {},
   "outputs": [
    {
     "name": "stderr",
     "output_type": "stream",
     "text": [
      "2025-03-06 21:24:54 - drms - INFO: Export request pending. [id=JSOC_20250306_001342, status=2]\n",
      "2025-03-06 21:24:54 - drms - INFO: Waiting for 0 seconds...\n",
      "2025-03-06 21:24:55 - drms - INFO: Export request pending. [id=JSOC_20250306_001342, status=1]\n",
      "2025-03-06 21:24:55 - drms - INFO: Waiting for 5 seconds...\n",
      "2025-03-06 21:25:00 - drms - INFO: Export request pending. [id=JSOC_20250306_001342, status=1]\n",
      "2025-03-06 21:25:00 - drms - INFO: Waiting for 5 seconds...\n",
      "2025-03-06 21:25:06 - drms - INFO: Export request pending. [id=JSOC_20250306_001342, status=1]\n",
      "2025-03-06 21:25:06 - drms - INFO: Waiting for 5 seconds...\n",
      "2025-03-06 21:25:13 - drms - INFO: Export request pending. [id=JSOC_20250306_001342, status=1]\n",
      "2025-03-06 21:25:13 - drms - INFO: Waiting for 5 seconds...\n",
      "2025-03-06 21:25:19 - drms - INFO: Export request pending. [id=JSOC_20250306_001342, status=1]\n",
      "2025-03-06 21:25:19 - drms - INFO: Waiting for 5 seconds...\n",
      "2025-03-06 21:25:24 - drms - INFO: Export request pending. [id=JSOC_20250306_001342, status=1]\n",
      "2025-03-06 21:25:24 - drms - INFO: Waiting for 5 seconds...\n",
      "2025-03-06 21:25:30 - sunpy - INFO: 81 URLs found for download. Full request totaling 1384MB\n"
     ]
    },
    {
     "name": "stdout",
     "output_type": "stream",
     "text": [
      "INFO: 81 URLs found for download. Full request totaling 1384MB [sunpy.net.jsoc.jsoc]\n"
     ]
    },
    {
     "name": "stderr",
     "output_type": "stream",
     "text": [
      "2025-03-06 21:25:43 - drms - INFO: Export request pending. [id=JSOC_20250306_001343, status=2]\n",
      "2025-03-06 21:25:43 - drms - INFO: Waiting for 0 seconds...\n",
      "2025-03-06 21:25:44 - drms - INFO: Export request pending. [id=JSOC_20250306_001343, status=1]\n",
      "2025-03-06 21:25:44 - drms - INFO: Waiting for 5 seconds...\n",
      "2025-03-06 21:25:51 - drms - INFO: Export request pending. [id=JSOC_20250306_001343, status=1]\n",
      "2025-03-06 21:25:51 - drms - INFO: Waiting for 5 seconds...\n",
      "2025-03-06 21:25:56 - drms - INFO: Export request pending. [id=JSOC_20250306_001343, status=1]\n",
      "2025-03-06 21:25:56 - drms - INFO: Waiting for 5 seconds...\n",
      "2025-03-06 21:26:02 - drms - INFO: Export request pending. [id=JSOC_20250306_001343, status=1]\n",
      "2025-03-06 21:26:02 - drms - INFO: Waiting for 5 seconds...\n",
      "2025-03-06 21:26:08 - drms - INFO: Export request pending. [id=JSOC_20250306_001343, status=1]\n",
      "2025-03-06 21:26:08 - drms - INFO: Waiting for 5 seconds...\n",
      "2025-03-06 21:26:14 - sunpy - INFO: 81 URLs found for download. Full request totaling 1384MB\n"
     ]
    },
    {
     "name": "stdout",
     "output_type": "stream",
     "text": [
      "INFO: 81 URLs found for download. Full request totaling 1384MB [sunpy.net.jsoc.jsoc]\n"
     ]
    },
    {
     "name": "stderr",
     "output_type": "stream",
     "text": [
      "Files Downloaded: 100%|██████████| 162/162 [34:48<00:00, 12.89s/file]\n"
     ]
    }
   ],
   "source": [
    "res = Fido.search(a.Time('2014-01-01T00:00:00', '2014-01-01T01:00:00') |\n",
    "            a.Time('2014-01-02T00:00:00', '2014-01-02T01:00:00'),\n",
    "            a.jsoc.Series('hmi.v_45s'),\n",
    "            a.jsoc.Notify('yiwen.tang@smail.nju.edu.cn'))\n",
    "#取消注释并修改路径以下载，\n",
    "#downloaded_files = Fido.fetch(res, path='/Users/IvanTang/Solarphysics/data/sunpy/{file}')"
   ]
  }
 ],
 "metadata": {
  "kernelspec": {
   "display_name": "solarphysics",
   "language": "python",
   "name": "python3"
  },
  "language_info": {
   "codemirror_mode": {
    "name": "ipython",
    "version": 3
   },
   "file_extension": ".py",
   "mimetype": "text/x-python",
   "name": "python",
   "nbconvert_exporter": "python",
   "pygments_lexer": "ipython3",
   "version": "3.10.13"
  }
 },
 "nbformat": 4,
 "nbformat_minor": 2
}
